{
 "cells": [
  {
   "cell_type": "code",
   "execution_count": 1,
   "id": "fc25c852-5fcc-4670-9909-47a3219f337a",
   "metadata": {},
   "outputs": [
    {
     "name": "stdout",
     "output_type": "stream",
     "text": [
      "Using device: cpu\n",
      "System CUDA Status:\n",
      "- PyTorch version: 2.7.0+cu128\n",
      "- CUDA Version: 12.8\n",
      "- CUDA available: False\n",
      "\n",
      "PyTorch Geometric Status:\n",
      "- PyG version: 2.6.1\n",
      "- torch_scatter: Installed\n",
      "- torch_sparse: Installed\n",
      "- torch_cluster: Installed\n",
      "- torch_spline_conv: Installed\n"
     ]
    }
   ],
   "source": [
    "import numpy as np\n",
    "import torch\n",
    "import matplotlib.pyplot as plt\n",
    "import torch_geometric\n",
    "from torch_geometric.loader import DataLoader\n",
    "import pandas as pd\n",
    "import random\n",
    "from torch_geometric.data import Data\n",
    "import networkx as nx\n",
    "from torch_geometric.utils import to_networkx\n",
    "import torch.nn.functional as F\n",
    "from torch_geometric.nn import global_mean_pool\n",
    "from tqdm import tqdm\n",
    "import torch.optim as optim\n",
    "import json\n",
    "import pprint \n",
    "import os\n",
    "\n",
    "from helper_function_module import init_setup\n",
    "seed = 71620\n",
    "BATCH_SIZE = 70\n",
    "device = init_setup(batch_size = BATCH_SIZE, \n",
    "           use_cuda = True, \n",
    "           random_seed = seed)"
   ]
  },
  {
   "cell_type": "code",
   "execution_count": 2,
   "id": "e163edbf-355d-44ab-91d9-e3ee6a59f5e4",
   "metadata": {},
   "outputs": [
    {
     "name": "stdout",
     "output_type": "stream",
     "text": [
      "Signal Event: 3488\n",
      "Example:\n",
      "{'edge_index': [[0, 1, 0, 2, 0, 3, 1, 2, 1, 3, 2, 3],\n",
      "                [1, 0, 2, 0, 3, 0, 2, 1, 3, 1, 3, 2]],\n",
      " 'edges': [2.9565117477907976,\n",
      "           2.9565117477907976,\n",
      "           2.5763245809474395,\n",
      "           2.5763245809474395,\n",
      "           3.24544672341739,\n",
      "           3.24544672341739,\n",
      "           2.3951853986834526,\n",
      "           2.3951853986834526,\n",
      "           0.4775472172384486,\n",
      "           0.4775472172384486,\n",
      "           2.1300869209027598,\n",
      "           2.1300869209027598],\n",
      " 'event_label': 1,\n",
      " 'eventno': 103451,\n",
      " 'h_scalars': [[0.0, 0.0, 0.08436201751946286],\n",
      "               [1.0, 1.0, 0.08553015783402822],\n",
      "               [1.0, 0.0, 0.055668460550214086],\n",
      "               [1.0, 1.0, 0.0]],\n",
      " 'invMass_2leadingbj': 11.429608636825577,\n",
      " 'invMass_2leadingbj1p': 107.04897921162537,\n",
      " 'jet_btag_label': [None, 1.0, 0.0, 1.0],\n",
      " 'leading_isophoton_pT': 35.1037,\n",
      " 'node_labels': [0, 1, 1, 1],\n",
      " 'nodes': [[-0.633467, 0.391795, 35.1037, 42.3857],\n",
      "           [0.668573, 3.04616, 44.5938, 54.9372],\n",
      "           [1.53257, -1.0031, 17.4381, 42.2528],\n",
      "           [0.428071, -2.82446, 12.9655, 14.1717]],\n",
      " 'num_btag_jets': 2,\n",
      " 'num_isophotons': 1,\n",
      " 'num_nodes': 4,\n",
      " 'x_coords': [[42.3857, 32.4437, 13.4043, -23.7544],\n",
      "              [54.9372, -44.3909, 4.24939, 32.0855],\n",
      "              [42.2528, 9.37635, -14.7027, 38.4865],\n",
      "              [14.1717, -12.319, -4.0432, 5.72123]]}\n",
      "~~~~~~~~~~~~~~~~~~~~~~~~~~~~~~~~~~~~~~~~~~~~~~~~~~~~~~~~~~~~~~~~~~~~~~~~~~~~~~~~~~~~~~~~~~~~~~~~~~~~\n",
      "Background Event: 5931\n",
      "Example:\n",
      "{'edge_index': [[0, 1, 0, 2, 0, 3, 0, 4, 1, 2, 1, 3, 1, 4, 2, 3, 2, 4, 3, 4],\n",
      "                [1, 0, 2, 0, 3, 0, 4, 0, 2, 1, 3, 1, 4, 1, 3, 2, 4, 2, 4, 3]],\n",
      " 'edges': [2.1771437685704176,\n",
      "           2.1771437685704176,\n",
      "           1.067552866861876,\n",
      "           1.067552866861876,\n",
      "           2.3693917201585726,\n",
      "           2.3693917201585726,\n",
      "           3.085445842175811,\n",
      "           3.085445842175811,\n",
      "           1.2785088138731033,\n",
      "           1.2785088138731033,\n",
      "           2.6287790045902364,\n",
      "           2.6287790045902364,\n",
      "           3.3266704195043126,\n",
      "           3.3266704195043126,\n",
      "           3.1748723699952115,\n",
      "           3.1748723699952115,\n",
      "           3.440512952713739,\n",
      "           3.440512952713739,\n",
      "           1.605131588884849,\n",
      "           1.605131588884849],\n",
      " 'event_label': 0,\n",
      " 'eventno': 371438,\n",
      " 'h_scalars': [[0.0, 0.0, 0.04795677637117538],\n",
      "               [1.0, 1.0, 0.0],\n",
      "               [1.0, 1.0, 0.0],\n",
      "               [1.0, 0.0, 0.043929520825890314],\n",
      "               [1.0, 0.0, 0.0]],\n",
      " 'invMass_2leadingbj': 36.28917074915532,\n",
      " 'invMass_2leadingbj1p': 67.80856696122953,\n",
      " 'jet_btag_label': [None, 1.0, 1.0, 0.0, 0.0],\n",
      " 'leading_isophoton_pT': 18.3381,\n",
      " 'node_labels': [0, 1, 1, 1, 1],\n",
      " 'nodes': [[1.06978, -1.04539, 18.3381, 29.8711],\n",
      "           [-0.326883, 0.624726, 34.8095, 36.6858],\n",
      "           [0.778053, -0.0184701, 21.6196, 28.5003],\n",
      "           [-0.221836, -3.03178, 14.5084, 14.8669],\n",
      "           [-1.69973, -2.40546, 13.4455, 38.0183]],\n",
      " 'num_btag_jets': 2,\n",
      " 'num_isophotons': 1,\n",
      " 'num_nodes': 5,\n",
      " 'x_coords': [[29.8711, 9.19776, -15.8647, 23.5795],\n",
      "              [36.6858, 28.2348, 20.3592, -11.5824],\n",
      "              [28.5003, 21.6159, -0.399293, 18.5705],\n",
      "              [14.8669, -14.421, -1.58994, -3.24494],\n",
      "              [38.0183, -9.96406, -9.02766, -35.5614]]}\n"
     ]
    }
   ],
   "source": [
    "BASE_JSON_DATA_DIR = \"/teamspace/studios/this_studio\"\n",
    "signal_path = os.path.join(BASE_JSON_DATA_DIR, \"onlyAny2bj_onlyAny1p/ppzaxbba_ax15_200k_minpt10_15jets_etafiltered_corrected_onlyAny2bj_onlyAny1p_LorentzNet_data.json\")\n",
    "background_path = os.path.join(BASE_JSON_DATA_DIR, \"onlyAny2bj_onlyAny1p/ppbba_500k_minpt10_15jets_etafiltered_corrected_onlyAny2bj_onlyAny1p_LorentzNet_data.json\")\n",
    "\n",
    "with open(signal_path, 'r') as file:\n",
    "    signal = json.load(file)\n",
    "\n",
    "with open(background_path, 'r') as file:\n",
    "    background = json.load(file)\n",
    "\n",
    "pp = pprint.PrettyPrinter(indent=1)\n",
    "\n",
    "print(f\"Signal Event: {len(signal)}\")\n",
    "print(\"Example:\")\n",
    "pp.pprint(signal[np.random.randint(0, len(signal))])\n",
    "print(100*'~')\n",
    "\n",
    "print(f\"Background Event: {len(background)}\")\n",
    "print(\"Example:\")\n",
    "pp.pprint(background[np.random.randint(0, len(background))])"
   ]
  },
  {
   "cell_type": "markdown",
   "id": "c6b0ac41-b406-4aa2-869c-0431b0de5ed4",
   "metadata": {},
   "source": [
    "# Converting Each Event into a PyG Graph Object"
   ]
  },
  {
   "cell_type": "code",
   "execution_count": 3,
   "id": "3416b72a-f114-4c89-899f-703f83e85638",
   "metadata": {},
   "outputs": [],
   "source": [
    "def convert_to_pyg_graph(graph, normalize_features):\n",
    "    \"\"\"\n",
    "    Convert the graph dictionary into a PyTorch Geometric Data object\n",
    "    and add graph-level features like jet_multiplicity, inv_mass, and the event label.\n",
    "\n",
    "    Parameters:\n",
    "    -----------\n",
    "    graph : dict\n",
    "        Dictionary containing 'eventno', 'nodes', 'edges', and 'edge_index', 'jet_multiplicity', 'inv_mass', 'node_labels',\n",
    "        'jet_btag_labels', 'event_label' for a single event.\n",
    "\n",
    "    Returns:\n",
    "    --------\n",
    "    data : Data\n",
    "        PyTorch Geometric Data object containing the graph and additional features.\n",
    "    \"\"\"\n",
    "    # Extract node features, edge features, and edge index from the graph dictionary\n",
    "    event_num = torch.tensor(graph['eventno'], dtype=torch.long)\n",
    "    # edge_index = torch.tensor(graph['edge_index'], dtype=torch.long)  # Shape: (2, num_edges)\n",
    "    edge_index_raw = graph['edge_index']\n",
    "    if not edge_index_raw or len(edge_index_raw) == 0:  # Empty edge_index\n",
    "        edge_index = torch.empty(2, 0, dtype=torch.long)  # Shape: (2, 0)\n",
    "        edge_features = torch.empty(0, 1, dtype=torch.float)  # Shape: (0, 1)\n",
    "    else:\n",
    "        edge_index = torch.tensor(edge_index_raw, dtype=torch.long)\n",
    "        # Ensure edge_index is 2D with shape [2, num_edges]\n",
    "        if edge_index.dim() == 1:  # If 1D, assume it's a flat list like [0, 1]\n",
    "            edge_index = edge_index.view(2, -1)  # Reshape to [2, num_edges]\n",
    "        elif edge_index.dim() != 2 or edge_index.size(0) != 2:  # Invalid shape\n",
    "            raise ValueError(f\"Invalid edge_index shape: {edge_index.shape}. Expected [2, num_edges].\")\n",
    "    \n",
    "    \n",
    "    edge_features = torch.tensor(graph['edges'], dtype=torch.float).view(-1,1)  # Shape: (num_edges, 1)\n",
    "    \n",
    "    node_labels = torch.tensor(graph['node_labels'], dtype=torch.long).view(-1,1)\n",
    "\n",
    "    jet_btag_raw = graph.get('jet_btag_label', [])\n",
    "\n",
    "    # Ensure jet_btag_raw has the same length as the number of nodes\n",
    "    if len(jet_btag_raw) != graph['num_nodes']:\n",
    "        print(f\"Warning: Event {graph.get('eventno', 'N/A')} - Mismatch between num_nodes ({num_nodes}) and length of jet_btag_label ({len(jet_btag_raw)}). Using NaNs for b-tags.\")\n",
    "        jet_btag_labels_tensor = torch.full((num_nodes, 1), float('nan'), dtype=torch.float)\n",
    "    else:\n",
    "        btag_labels_float = []\n",
    "        for btag_val in jet_btag_raw:\n",
    "            if btag_val is None or (isinstance(btag_val, str) and btag_val.lower() == 'nan'): # Handle 'nan' string if present\n",
    "                btag_labels_float.append(float(-1))\n",
    "            else:\n",
    "                try:\n",
    "                    btag_labels_float.append(float(btag_val))\n",
    "                except (ValueError, TypeError):\n",
    "                    print(f\"Warning: Invalid b-tag value '{btag_val}' for event {graph.get('eventno', 'N/A')}. Using NaN.\")\n",
    "                    btag_labels_float.append(float(-1))\n",
    "\n",
    "    if not btag_labels_float:\n",
    "        jet_btag_labels_tensor = torch.empty((0, 1), dtype=torch.float) if num_nodes == 0 else torch.full((num_nodes, 1), float('nan'), dtype=torch.float)\n",
    "    else:\n",
    "        jet_btag_labels_tensor = torch.tensor(btag_labels_float, dtype=torch.float).view(-1, 1)\n",
    "\n",
    "    node_features = torch.tensor(graph['nodes'], dtype=torch.float)\n",
    "    h_scalars = torch.tensor(graph['h_scalars'], dtype = torch.float)\n",
    "    x_coord = torch.tensor(graph['x_coords'], dtype = torch.float)\n",
    "\n",
    "    if (normalize_features) & (node_features.size(0) != 0):\n",
    "        node_features = (node_features - node_features.mean(dim=0)) / node_features.std(dim=0) #Normalised Features\n",
    "    \n",
    "    node_features_with_btaglabel = torch.cat((node_features[:, :2], jet_btag_labels_tensor), dim = 1)\n",
    "\n",
    "    \n",
    "            \n",
    "    # Convert graph-level features (jet_multiplicity, inv_mass) and label to tensor\n",
    "    graph_level_features = torch.tensor([graph['num_nodes'],\n",
    "                                         graph['invMass_2leadingbj1p'],\n",
    "                                         graph['invMass_2leadingbj'],\n",
    "                                         graph['num_isophotons'],\n",
    "                                         graph['num_btag_jets'],\n",
    "                                         graph['leading_isophoton_pT']\n",
    "                                        ], dtype=torch.float).view(1, -1)\n",
    "    label_tensor = torch.tensor(graph['event_label'], dtype=torch.long)  # Event label (0 or 1)\n",
    "\n",
    "    # Create the PyTorch Geometric Data object\n",
    "    data = Data(\n",
    "        x=node_features_with_btaglabel,               # Node features (3, num_features)\n",
    "        edge_index=edge_index,         # Edge index (2, num_edges)\n",
    "        edge_attr=edge_features,       # Edge features (num_edges, 1)\n",
    "        y=label_tensor                 # Event label (0 or 1)\n",
    "    )\n",
    "\n",
    "    # Add custom graph-level features\n",
    "    data.eventno = event_num\n",
    "    data.number_of_nodes = graph_level_features[0, 0]\n",
    "    data.inv_mass_2j1p = graph_level_features[0, 1]\n",
    "    data.inv_mass_2j = graph_level_features[0, 2]\n",
    "    data.num_isophotons = graph_level_features[0, 3]\n",
    "    data.num_btag_jets = graph_level_features[0, 4]\n",
    "    data.node_label = node_labels \n",
    "    data.jet_btag_label = jet_btag_labels_tensor\n",
    "    data.isophoton_pT = graph_level_features[0, 5]\n",
    "    data.h_scalars = h_scalars\n",
    "    data.x_coords = x_coord\n",
    "\n",
    "    return data\n",
    "\n",
    "def convert_all_to_pyg_graphs(graphs,*, normalize_features = False):\n",
    "    \"\"\"\n",
    "    Converts a list of event graphs to PyTorch Geometric-compatible Data objects.\n",
    "    Also adds the graph-level features 'jet_multiplicity', 'inv_mass' and event labels.\n",
    "\n",
    "    Parameters:\n",
    "    -----------\n",
    "    graphs : list of dicts\n",
    "        List containing dictionaries with node, edge information for each event.\n",
    "    dataframe : pd.DataFrame\n",
    "        DataFrame containing the event-level features like 'jetmultiplicity', 'invmass_4j1p', and 'label'.\n",
    "\n",
    "    Returns:\n",
    "    --------\n",
    "    pyg_graphs : list of Data\n",
    "        List of PyTorch Geometric Data objects with added graph-level features and labels.\n",
    "    \"\"\"\n",
    "    pyg_graphs = []\n",
    "    print('Initializing the process...')\n",
    "    with tqdm(total = len(graphs), desc = 'Progress', leave = True) as pbar:    \n",
    "        for i, graph in enumerate(graphs):\n",
    "            data = convert_to_pyg_graph(graph, normalize_features)\n",
    "            pyg_graphs.append(data)\n",
    "            pbar.update(1)\n",
    "    print('Process completed successfully :)')\n",
    "    return pyg_graphs"
   ]
  },
  {
   "cell_type": "code",
   "execution_count": 4,
   "id": "500e7b45-b917-44dd-9244-dee0589fbf6b",
   "metadata": {},
   "outputs": [
    {
     "name": "stdout",
     "output_type": "stream",
     "text": [
      "Initializing the process...\n"
     ]
    },
    {
     "name": "stderr",
     "output_type": "stream",
     "text": [
      "Progress: 100%|██████████| 3488/3488 [00:00<00:00, 5812.48it/s]\n"
     ]
    },
    {
     "name": "stdout",
     "output_type": "stream",
     "text": [
      "Process completed successfully :)\n",
      "Initializing the process...\n"
     ]
    },
    {
     "name": "stderr",
     "output_type": "stream",
     "text": [
      "Progress: 100%|██████████| 5931/5931 [00:01<00:00, 4689.45it/s]"
     ]
    },
    {
     "name": "stdout",
     "output_type": "stream",
     "text": [
      "Process completed successfully :)\n"
     ]
    },
    {
     "name": "stderr",
     "output_type": "stream",
     "text": [
      "\n"
     ]
    }
   ],
   "source": [
    "signal_pyg_graphs = convert_all_to_pyg_graphs(signal, normalize_features = False)\n",
    "background_pyg_graphs = convert_all_to_pyg_graphs(background, normalize_features = False)"
   ]
  },
  {
   "cell_type": "code",
   "execution_count": 5,
   "id": "6c6fe52a-fd62-4d3b-a4d3-8abed01bddfe",
   "metadata": {},
   "outputs": [
    {
     "name": "stdout",
     "output_type": "stream",
     "text": [
      "Dataset contains 9419 samples\n"
     ]
    }
   ],
   "source": [
    "dataset = []\n",
    "for data in signal_pyg_graphs + background_pyg_graphs:\n",
    "    if (data.number_of_nodes >= 3):\n",
    "    # & (data.num_isophotons == 1) & (data.num_btag_jets == 2):\n",
    "        dataset.append(data)\n",
    "\n",
    "random.seed(seed)\n",
    "dataset = random.sample(dataset, len(dataset))\n",
    "print(f'Dataset contains {len(dataset)} samples')"
   ]
  },
  {
   "cell_type": "code",
   "execution_count": 6,
   "id": "bab7e6cc-b9d9-42b8-b437-6f00c3e66976",
   "metadata": {},
   "outputs": [
    {
     "name": "stdout",
     "output_type": "stream",
     "text": [
      "Example Graph Data Object:\n",
      "Data(x=[3, 3], edge_index=[2, 6], edge_attr=[6, 1], y=0, eventno=413030, number_of_nodes=3.0, inv_mass_2j1p=57.84102249145508, inv_mass_2j=7.739865303039551, num_isophotons=1.0, num_btag_jets=2.0, node_label=[3, 1], jet_btag_label=[3, 1], isophoton_pT=20.686500549316406, h_scalars=[3, 3], x_coords=[3, 4])\n"
     ]
    }
   ],
   "source": [
    "idx = 54\n",
    "print(\"Example Graph Data Object:\")\n",
    "sample_graph = dataset[idx]\n",
    "print(sample_graph)"
   ]
  },
  {
   "cell_type": "code",
   "execution_count": 7,
   "id": "5ed44c67-fea0-48f4-b423-8d48d76970cd",
   "metadata": {},
   "outputs": [
    {
     "data": {
      "text/plain": [
       "tensor([[-1.],\n",
       "        [ 1.],\n",
       "        [ 1.]])"
      ]
     },
     "execution_count": 7,
     "metadata": {},
     "output_type": "execute_result"
    }
   ],
   "source": [
    "sample_graph.jet_btag_label"
   ]
  },
  {
   "cell_type": "markdown",
   "id": "fa2aacc5-d509-47d3-9ea1-33c711104a27",
   "metadata": {},
   "source": [
    "# Custom Lorentz Group Equivariant Block (LGEB)"
   ]
  },
  {
   "cell_type": "code",
   "execution_count": 8,
   "id": "51b5e36d-2e02-4ad2-967d-41fb06a30cdf",
   "metadata": {},
   "outputs": [],
   "source": [
    "import torch\n",
    "import torch.nn as nn\n",
    "import torch.nn.functional as F\n",
    "from torch_geometric.nn.conv import MessagePassing\n",
    "from torch_geometric.utils import add_self_loops, degree\n",
    "\n",
    "def minkowski_dot_product(p1, p2):\n",
    "    # p1, p2 are batches of 4-vectors: [..., 4]\n",
    "    # Metric: (+, -, -, -)\n",
    "    return p1[..., 0] * p2[..., 0] - torch.sum(p1[..., 1:] * p2[..., 1:], dim=-1)\n",
    "\n",
    "def psi_normalization(z):\n",
    "    # sgn(z) * log(|z| + 1)\n",
    "    return torch.sign(z) * torch.log1p(torch.abs(z))\n",
    "\n",
    "\n",
    "class LGEBConv(MessagePassing):\n",
    "    def __init__(self,\n",
    "                 scalar_in_channels: int,\n",
    "                 scalar_out_channels: int,\n",
    "                 edge_feature_dim: int, # Dimensionality of edge_attr (e.g., 1 if only DeltaR)\n",
    "                 coord_channels: int = 4, # Should always be 4 for 4-vectors\n",
    "                 hidden_mlp_channels: int = 128,\n",
    "                 edge_mlp_hidden_channels: int = 72,\n",
    "                 coord_update_scale_c: float = 1e-3, # Hyperparameter c from paper\n",
    "                 aggr: str = 'sum', # Aggregation for scalar messages\n",
    "                 dropout_rate: float = 0.2):\n",
    "        \"\"\"\n",
    "        Lorentz Group Equivariant Block (LGEB) Convolution Layer.\n",
    "\n",
    "        Args:\n",
    "            scalar_in_channels (int): Dimensionality of input scalar features (h_in).\n",
    "            scalar_out_channels (int): Dimensionality of output scalar features (h_out).\n",
    "            coord_channels (int): Dimensionality of coordinate features (x), typically 4.\n",
    "            hidden_mlp_channels (int): Hidden dimension for MLPs updating h and x.\n",
    "            edge_mlp_hidden_channels (int): Hidden dimension for MLPs computing edge messages.\n",
    "            coord_update_scale_c (float): Scaling factor 'c' for coordinate updates.\n",
    "            aggr (str): Aggregation method for scalar messages ('mean', 'sum', 'max').\n",
    "            dropout_rate (float): Dropout rate for MLPs.\n",
    "        \"\"\"\n",
    "        super(LGEBConv, self).__init__(aggr=aggr, flow=\"source_to_target\") # Messages flow from j to i\n",
    "\n",
    "        self.scalar_in_channels = scalar_in_channels\n",
    "        self.scalar_out_channels = scalar_out_channels\n",
    "        self.coord_channels = coord_channels\n",
    "        self.coord_update_scale_c = coord_update_scale_c\n",
    "\n",
    "        # MLP for edge message Φe: (2*h_dim + 3 scalars) -> hidden -> hidden\n",
    "        # Inputs to Φe: hi, hj, ψ(||xi - xj||^2), ψ((xi, xj)), deltaR_ij\n",
    "        # The Minkowski products are scalars.\n",
    "        self.phi_e = nn.Sequential(\n",
    "            nn.Linear(2 * scalar_in_channels + 2 + edge_feature_dim, edge_mlp_hidden_channels),\n",
    "            nn.ReLU(),\n",
    "            nn.Dropout(dropout_rate) if dropout_rate > 0 else nn.Identity(),\n",
    "            nn.Linear(edge_mlp_hidden_channels, edge_mlp_hidden_channels),\n",
    "        )\n",
    "\n",
    "        # MLP for edge weight Φm (for scalar update): edge_msg_dim -> 1 (then sigmoid)\n",
    "        self.phi_m_weight = nn.Sequential(\n",
    "            nn.Linear(edge_mlp_hidden_channels, 1),\n",
    "            nn.Sigmoid()\n",
    "        )\n",
    "\n",
    "        # MLP for scalar feature update Φh: (h_in_dim + aggregated_msg_dim) -> hidden -> h_out_dim\n",
    "        # Aggregated message dimension is edge_mlp_hidden_channels\n",
    "        self.phi_h_update = nn.Sequential(\n",
    "            nn.Linear(scalar_in_channels + edge_mlp_hidden_channels, hidden_mlp_channels),\n",
    "            nn.ReLU(),\n",
    "            nn.Dropout(dropout_rate) if dropout_rate > 0 else nn.Identity(),\n",
    "            nn.Linear(hidden_mlp_channels, scalar_out_channels)\n",
    "        )\n",
    "\n",
    "        # MLP for coordinate attention Φx: edge_msg_dim -> 1 (scalar attention weight)\n",
    "        self.phi_x_attention = nn.Sequential(\n",
    "            nn.Linear(edge_mlp_hidden_channels, 1)\n",
    "            # No sigmoid here, attention can be any scalar. Paper doesn't specify normalization.\n",
    "        )\n",
    "\n",
    "        # Linear layer for residual connection on scalar features (if channels change)\n",
    "        if scalar_in_channels != scalar_out_channels:\n",
    "            self.h_residual_transform = nn.Linear(scalar_in_channels, scalar_out_channels)\n",
    "        else:\n",
    "            self.h_residual_transform = nn.Identity()\n",
    "\n",
    "\n",
    "    def forward(self, x_coords, h_scalars, edge_index, edge_attr):\n",
    "        \"\"\"\n",
    "        Forward pass of the LGEB layer.\n",
    "\n",
    "        Args:\n",
    "            x_coords (Tensor): Node coordinate features (4-vectors), shape [N, coord_channels].\n",
    "            h_scalars (Tensor): Node scalar features, shape [N, scalar_in_channels].\n",
    "            edge_index (LongTensor): Graph connectivity, shape [2, E].\n",
    "            edge_attr (Tensor): Edge features (e.g., DeltaR), shape [E, edge_feature_dim].\n",
    "\n",
    "        Returns:\n",
    "            Tuple[Tensor, Tensor]: Updated x_coords_out, h_scalars_out\n",
    "        \"\"\"\n",
    "        if x_coords.shape[1] != self.coord_channels:\n",
    "            raise ValueError(f\"Input x_coords have {x_coords.shape[1]} channels, expected {self.coord_channels}\")\n",
    "        if h_scalars.shape[1] != self.scalar_in_channels:\n",
    "             raise ValueError(f\"Input h_scalars have {h_scalars.shape[1]} channels, expected {self.scalar_in_channels}\")\n",
    "        if edge_attr is not None and edge_attr.size(0) != edge_index.size(1):\n",
    "            raise ValueError(f\"Mismatch between number of edges in edge_attr ({edge_attr.size(0)}) and edge_index ({edge_index.size(1)})\")\n",
    "        # For scalar update:\n",
    "        # propagate_type: (x_coord: Tensor, h_scalar: Tensor)\n",
    "        aggregated_scalar_messages = self.propagate(\n",
    "            edge_index,\n",
    "            x_coord=x_coords,\n",
    "            h_scalar=h_scalars,\n",
    "            edge_features_prop=edge_attr,\n",
    "            mode='scalar_update'\n",
    "        )\n",
    "\n",
    "        aggregated_coord_updates = self.propagate(\n",
    "            edge_index,\n",
    "            x_coord=x_coords,\n",
    "            h_scalar=h_scalars,\n",
    "            edge_features_prop=edge_attr,\n",
    "            mode='coord_update'\n",
    "        )\n",
    "        # aggregated_coord_updates shape: [N, coord_channels]\n",
    "\n",
    "        # --- 3. Update Scalar Features (h) --- (Equation 3.4)\n",
    "        # h_i^{l+1} = h_i^l + Φh(h_i^l, aggregated_scalar_messages_i)\n",
    "        h_scalars_combined = torch.cat([h_scalars, aggregated_scalar_messages], dim=1)\n",
    "        h_scalars_out = self.h_residual_transform(h_scalars) + self.phi_h_update(h_scalars_combined)\n",
    "\n",
    "        # --- 5. Update Coordinate Features (x) --- (Equation 3.3)\n",
    "        # x_i^{l+1} = x_i^l + c * aggregated_coord_updates_i\n",
    "        x_coords_out = x_coords + self.coord_update_scale_c * aggregated_coord_updates\n",
    "\n",
    "        return x_coords_out, h_scalars_out\n",
    "\n",
    "    def message(self, h_scalar_i, h_scalar_j, x_coord_i, x_coord_j, edge_features_prop, mode: str):\n",
    "        \"\"\"\n",
    "        Computes messages from j to i.\n",
    "\n",
    "        Args:\n",
    "            h_scalar_i (Tensor): Scalar features of target nodes i, shape [E, scalar_in_channels].\n",
    "            h_scalar_j (Tensor): Scalar features of source nodes j, shape [E, scalar_in_channels].\n",
    "            x_coord_i (Tensor): Coordinate features of target nodes i, shape [E, coord_channels].\n",
    "            x_coord_j (Tensor): Coordinate features of source nodes j, shape [E, coord_channels].\n",
    "            mode (str): 'scalar_update' or 'coord_update' to determine what to return.\n",
    "\n",
    "        Returns:\n",
    "            Tensor: If mode is 'scalar_update', returns weighted edge messages mij_weighted.\n",
    "                    If mode is 'coord_update', returns weighted coordinates xj_weighted_for_attention.\n",
    "        \"\"\"\n",
    "        # --- 1. Calculate Lorentz Invariants for the edge (i, j) ---\n",
    "        # Minkowski dot product (xi, xj)\n",
    "        dot_product_xi_xj = minkowski_dot_product(x_coord_i, x_coord_j) # Shape [E]\n",
    "        # Squared Minkowski norm ||xi - xj||^2\n",
    "        diff_x = x_coord_i - x_coord_j # Shape [E, coord_channels]\n",
    "        # For ||p||^2 = p_0^2 - p_vec^2. So ||xi-xj||^2 = (Ei-Ej)^2 - (px_i-px_j)^2 - ...\n",
    "        # This is minkowski_dot_product(diff_x, diff_x)\n",
    "        squared_norm_xi_minus_xj = minkowski_dot_product(diff_x, diff_x) # Shape [E]\n",
    "\n",
    "        # Apply psi normalization ψ(z) = sgn(z) * log(|z| + 1)\n",
    "        psi_dot_product = psi_normalization(dot_product_xi_xj)\n",
    "        psi_squared_norm = psi_normalization(squared_norm_xi_minus_xj)\n",
    "\n",
    "        if edge_features_prop is None:\n",
    "            raise ValueError(\"edge_features_prop (DeltaR) is None in message function. This should be provided.\")\n",
    "\n",
    "        if edge_features_prop.dim() == 1:\n",
    "            edge_features_prop_clean = torch.nan_to_num(edge_features_prop, nan=0.0).unsqueeze(-1)\n",
    "        else:\n",
    "            edge_features_prop_clean = torch.nan_to_num(edge_features_prop, nan=0.0)\n",
    "        # Prepare input for Φe: concatenate [hi, hj, ψ_norm, ψ_dot_prod]\n",
    "        # Reshape invariants to [E, 1] to concatenate with h_scalars [E, D_h]\n",
    "        phi_e_input = torch.cat([\n",
    "            h_scalar_i, h_scalar_j,\n",
    "            psi_squared_norm.unsqueeze(-1),\n",
    "            psi_dot_product.unsqueeze(-1),\n",
    "            edge_features_prop_clean\n",
    "        ], dim=-1) # Shape [E, 2*scalar_in_channels + 3]\n",
    "\n",
    "        # --- Compute raw edge message mij --- (Equation 3.2, output of Φe)\n",
    "        mij = self.phi_e(phi_e_input) # Shape [E, edge_mlp_hidden_channels]\n",
    "\n",
    "        if mode == 'scalar_update':\n",
    "            # --- 2. Compute Edge Weight wij (for scalar update) --- (Part of Equation 3.4)\n",
    "            # wij = Φm(mij)\n",
    "            wij = self.phi_m_weight(mij) # Shape [E, 1]\n",
    "            # Return weighted message: wij * mij\n",
    "            return wij * mij # Shape [E, edge_mlp_hidden_channels]\n",
    "\n",
    "        elif mode == 'coord_update':\n",
    "            # --- 4. Compute Coordinate Attention Weight αij --- (Part of Equation 3.3)\n",
    "            # αij = Φx(mij)\n",
    "            alpha_ij = self.phi_x_attention(mij) # Shape [E, 1]\n",
    "            # Return xj weighted by attention: xj * αij\n",
    "            return x_coord_j * alpha_ij # Shape [E, coord_channels]\n",
    "        else:\n",
    "            raise ValueError(f\"Invalid mode in message function: {mode}\")"
   ]
  },
  {
   "cell_type": "markdown",
   "id": "92f262af-17ed-4cbf-aa1c-347f44699919",
   "metadata": {},
   "source": [
    "# Train-Validation Loop"
   ]
  },
  {
   "cell_type": "code",
   "execution_count": 9,
   "id": "f6c6c40f-1c12-44f8-98aa-9607f483215e",
   "metadata": {},
   "outputs": [],
   "source": [
    "import torch\n",
    "import torch.nn as nn\n",
    "import torch.optim as optim\n",
    "from torch_geometric.loader import DataLoader\n",
    "from torch_geometric.data import Data\n",
    "from sklearn.metrics import roc_auc_score, accuracy_score, classification_report\n",
    "from tqdm import tqdm\n",
    "import numpy as np\n",
    "import os\n",
    "import traceback\n",
    "from typing import Tuple, Optional\n",
    "\n",
    "def to_device(data, device):\n",
    "    \"\"\"Moves a PyG Data or Batch object to the specified device.\"\"\"\n",
    "    if isinstance(data, (list, tuple)):\n",
    "        return [to_device(x, device) for x in data]\n",
    "    if hasattr(data, 'to'):\n",
    "        return data.to(device)\n",
    "    return data # If not a PyG object or tensor\n",
    "\n",
    "# --- Training Function ---\n",
    "def train_epoch(model: nn.Module,\n",
    "                loader: DataLoader,\n",
    "                optimizer: optim.Optimizer,\n",
    "                criterion: nn.Module, # Loss function, e.g., nn.BCELoss() or nn.BCEWithLogitsLoss()\n",
    "                device: torch.device,\n",
    "                epoch_num: int,\n",
    "                log_interval: int = 50): # Log every N batches\n",
    "    \"\"\"\n",
    "    Trains the model for one epoch.\n",
    "\n",
    "    Args:\n",
    "        model: The PyTorch model to train.\n",
    "        loader: DataLoader for the training data.\n",
    "        optimizer: The optimizer.\n",
    "        criterion: The loss function.\n",
    "        device: The device to train on ('cuda' or 'cpu').\n",
    "        epoch_num (int): Current epoch number for logging.\n",
    "        log_interval (int): How often to print batch loss.\n",
    "\n",
    "    Returns:\n",
    "        float: Average training loss for the epoch.\n",
    "        float: Average training accuracy for the epoch.\n",
    "    \"\"\"\n",
    "    model.train()  # Set the model to training mode\n",
    "    total_loss = 0.0\n",
    "    correct_predictions = 0\n",
    "    total_samples = 0\n",
    "    processed_batches = 0\n",
    "\n",
    "    # Wrap loader with tqdm for a progress bar\n",
    "    progress_bar = tqdm(loader, desc=f\"Epoch {epoch_num+1} [Train]\", leave=True)\n",
    "\n",
    "    for batch_idx, batch_data in enumerate(progress_bar):\n",
    "        try:\n",
    "            batch_data = to_device(batch_data, device)\n",
    "            optimizer.zero_grad()  # Clear previous gradients\n",
    "\n",
    "            # Forward pass: model expects data.x and data.h if using MyLorentzNet example\n",
    "            # Ensure your batch_data has these attributes correctly populated\n",
    "            if not hasattr(batch_data, 'x_coords') or not hasattr(batch_data, 'h_scalars'):\n",
    "                print(f\"Warning: Batch {batch_idx} missing 'x' or 'h' attributes. Skipping.\")\n",
    "                continue\n",
    "\n",
    "            outputs = model(batch_data)  # Get raw logits or sigmoid outputs\n",
    "\n",
    "            # Ensure outputs and batch_data.y have compatible shapes and types\n",
    "            if outputs is None:\n",
    "                print(f\"Warning: Model output is None for batch {batch_idx}. Skipping.\")\n",
    "                continue\n",
    "            if batch_data.y is None:\n",
    "                print(f\"Warning: Batch {batch_idx} missing 'y' attribute. Skipping.\")\n",
    "                continue\n",
    "\n",
    "            # If model outputs logits, criterion should be BCEWithLogitsLoss\n",
    "            # If model outputs probabilities (after sigmoid), criterion should be BCELoss\n",
    "            # Ensure target is float for BCE losses\n",
    "            loss = criterion(outputs.squeeze(), batch_data.y.float().squeeze())\n",
    "\n",
    "            loss.backward()  # Backpropagate the loss\n",
    "            optimizer.step()   # Update model parameters\n",
    "\n",
    "            total_loss += loss.item() * batch_data.num_graphs # Accumulate loss (weighted by batch size)\n",
    "            # Calculate accuracy\n",
    "            # If output is probabilities, apply threshold. If logits, apply sigmoid then threshold.\n",
    "            # Assuming outputs are probabilities here (model ends with sigmoid)\n",
    "            preds = (outputs.squeeze() >= 0.5).long()\n",
    "            correct_predictions += (preds == batch_data.y.squeeze().long()).sum().item()\n",
    "            total_samples += batch_data.num_graphs\n",
    "            processed_batches += 1\n",
    "\n",
    "            if (batch_idx + 1) % log_interval == 0:\n",
    "                current_loss = total_loss / total_samples if total_samples > 0 else 0\n",
    "                current_acc = correct_predictions / total_samples if total_samples > 0 else 0\n",
    "                progress_bar.set_postfix(loss=f\"{current_loss:.4f}\", acc=f\"{current_acc:.4f}\")\n",
    "\n",
    "        except Exception as e:\n",
    "            print(f\"\\n--- ERROR during training batch {batch_idx} in epoch {epoch_num+1} ---\")\n",
    "            print(f\"Exception Type: {type(e)}\")\n",
    "            print(f\"Exception Value: {e}\")\n",
    "            print(\"Traceback:\")\n",
    "            traceback.print_exc()\n",
    "            print(\"--- Skipping this batch ---\")\n",
    "            continue\n",
    "\n",
    "    if processed_batches == 0:\n",
    "        print(f\"Warning: Epoch {epoch_num+1} [Train] - No batches processed. Check data or error messages.\")\n",
    "        return 0.0, 0.0\n",
    "\n",
    "    avg_loss = total_loss / total_samples\n",
    "    avg_accuracy = correct_predictions / total_samples\n",
    "    return avg_loss, avg_accuracy\n",
    "\n",
    "# --- Validation Function ---\n",
    "def evaluate_model(model: nn.Module,\n",
    "                   loader: DataLoader,\n",
    "                   criterion: nn.Module,\n",
    "                   device: torch.device,\n",
    "                   epoch_num: int # For logging purposes\n",
    "                   ) -> Tuple[float, float, float, Optional[dict]]:\n",
    "    \"\"\"\n",
    "    Evaluates the model on the validation or test set.\n",
    "\n",
    "    Args:\n",
    "        model: The PyTorch model to evaluate.\n",
    "        loader: DataLoader for the validation/test data.\n",
    "        criterion: The loss function.\n",
    "        device: The device to evaluate on.\n",
    "        epoch_num (int): Current epoch number for logging context.\n",
    "\n",
    "    Returns:\n",
    "        Tuple containing:\n",
    "            - float: Average validation/test loss.\n",
    "            - float: Average validation/test accuracy.\n",
    "            - float: ROC AUC score.\n",
    "            - dict: Classification report dictionary (or None if error).\n",
    "    \"\"\"\n",
    "    model.eval()\n",
    "    total_loss = 0.0\n",
    "    all_preds = []\n",
    "    all_labels = []\n",
    "    all_outputs_proba = []\n",
    "    processed_batches = 0\n",
    "\n",
    "    progress_bar = tqdm(loader, desc=f\"Epoch {epoch_num+1} [Eval]\", leave=True)\n",
    "\n",
    "    with torch.no_grad():  # Disable gradient calculations\n",
    "        for batch_idx, batch_data in enumerate(progress_bar):\n",
    "            try:\n",
    "                batch_data = to_device(batch_data, device)\n",
    "\n",
    "                if not hasattr(batch_data, 'x_coords') or not hasattr(batch_data, 'h_scalars'):\n",
    "                    print(f\"Warning: Eval Batch {batch_idx} missing 'x' or 'h' attributes. Skipping.\")\n",
    "                    continue\n",
    "\n",
    "                outputs = model(batch_data)\n",
    "                if outputs is None:\n",
    "                    print(f\"Warning: Model output is None for eval batch {batch_idx}. Skipping.\")\n",
    "                    continue\n",
    "                if batch_data.y is None:\n",
    "                    print(f\"Warning: Eval Batch {batch_idx} missing 'y' attribute. Skipping.\")\n",
    "                    continue\n",
    "\n",
    "                loss = criterion(outputs.squeeze(), batch_data.y.float().squeeze())\n",
    "                total_loss += loss.item() * batch_data.num_graphs\n",
    "\n",
    "                # Assuming outputs are probabilities (model ends with sigmoid)\n",
    "                probabilities = outputs.squeeze().cpu().numpy()\n",
    "                preds = (probabilities >= 0.5).astype(int)\n",
    "                labels = batch_data.y.squeeze().cpu().numpy().astype(int)\n",
    "\n",
    "                all_outputs_proba.extend(probabilities.tolist())\n",
    "                all_preds.extend(preds.tolist())\n",
    "                all_labels.extend(labels.tolist())\n",
    "                processed_batches +=1\n",
    "\n",
    "            except Exception as e:\n",
    "                print(f\"\\n--- ERROR during evaluation batch {batch_idx} in epoch {epoch_num+1} ---\")\n",
    "                print(f\"Exception Type: {type(e)}\")\n",
    "                print(f\"Exception Value: {e}\")\n",
    "                print(\"Traceback:\")\n",
    "                traceback.print_exc()\n",
    "                print(\"--- Skipping this batch ---\")\n",
    "                continue\n",
    "\n",
    "    if processed_batches == 0 or not all_labels:\n",
    "        print(f\"Warning: Epoch {epoch_num+1} [Eval] - No batches processed or no labels collected.\")\n",
    "        return 0.0, 0.0, 0.0, None\n",
    "\n",
    "    avg_loss = total_loss / len(all_labels)\n",
    "    accuracy = accuracy_score(all_labels, all_preds)\n",
    "    try:\n",
    "        if len(np.unique(all_labels)) > 1:\n",
    "            roc_auc = roc_auc_score(all_labels, all_outputs_proba)\n",
    "        else:\n",
    "            print(\"Warning: ROC AUC not computed because only one class present in y_true.\")\n",
    "            roc_auc = 0.0 # Or np.nan\n",
    "    except ValueError as e:\n",
    "        print(f\"ValueError calculating ROC AUC: {e}. Setting AUC to 0.0.\")\n",
    "        roc_auc = 0.0\n",
    "\n",
    "    report_dict = None\n",
    "    try:\n",
    "        report_dict = classification_report(all_labels, all_preds, output_dict=True, zero_division=0)\n",
    "    except Exception as e:\n",
    "        print(f\"Error generating classification report: {e}\")\n",
    "\n",
    "\n",
    "    return avg_loss, accuracy, roc_auc, report_dict\n",
    "\n",
    "# --- Main Training Loop ---\n",
    "def run_training_pipeline(\n",
    "    model: nn.Module,\n",
    "    train_dataset: list,\n",
    "    val_dataset: list,\n",
    "    num_epochs: int,\n",
    "    batch_size: int,\n",
    "    learning_rate: float,\n",
    "    device_str: str = 'cuda',\n",
    "    model_save_path: str = './best_model.pt',\n",
    "    log_interval_train: int = 50\n",
    "):\n",
    "    \"\"\"\n",
    "    Main training and validation loop.\n",
    "    \"\"\"\n",
    "    device = torch.device(device_str if torch.cuda.is_available() else 'cpu')\n",
    "    print(f\"Using device: {device}\")\n",
    "    model.to(device)\n",
    "\n",
    "    # DataLoaders\n",
    "    train_loader = DataLoader(train_dataset, batch_size=batch_size, shuffle=True, drop_last=False)\n",
    "    val_loader = DataLoader(val_dataset, batch_size=batch_size, shuffle=False)\n",
    "\n",
    "    # Optimizer and Loss\n",
    "    optimizer = optim.AdamW(model.parameters(), lr=learning_rate, weight_decay=1e-5)\n",
    "    criterion = nn.BCELoss()\n",
    "    best_val_auc = 0.0\n",
    "\n",
    "    train_loss_lst, train_acc_lst = [], []\n",
    "    val_loss_lst, val_acc_lst = [], []\n",
    "\n",
    "    print(\"\\n--- Starting Training ---\")\n",
    "    for epoch in range(num_epochs):\n",
    "        train_loss, train_acc = train_epoch(model, train_loader, optimizer, criterion, device, epoch, log_interval_train)\n",
    "        val_loss, val_acc, val_auc, val_report = evaluate_model(model, val_loader, criterion, device, epoch)\n",
    "\n",
    "        train_loss_lst.append(train_loss)\n",
    "        train_acc_lst.append(train_acc)\n",
    "        val_loss_lst.append(val_loss)\n",
    "        val_acc_lst.append(val_acc)\n",
    "        \n",
    "        print(f\"\\nEpoch {epoch+1}/{num_epochs} Summary:\")\n",
    "        print(f\"  Train Loss: {train_loss:.4f}, Train Acc: {train_acc:.4f}\")\n",
    "        print(f\"  Val   Loss: {val_loss:.4f}, Val   Acc: {val_acc:.4f}, Val   AUC: {val_auc:.4f}\")\n",
    "\n",
    "        if val_report:\n",
    "            print(f\"  Validation F1-Score (macro avg): {val_report['macro avg']['f1-score']:.4f}\")\n",
    "            print(f\"  Validation F1-Score (weighted avg): {val_report['weighted avg']['f1-score']:.4f}\")\n",
    "\n",
    "\n",
    "        # Save the model if validation AUC improves\n",
    "        if val_auc > best_val_auc:\n",
    "            best_val_auc = val_auc\n",
    "            print(f\"  New best validation AUC: {best_val_auc:.4f}. Saving model to {model_save_path}...\")\n",
    "            try:\n",
    "                torch.save({\n",
    "                    'epoch': epoch,\n",
    "                    'model_state_dict': model.state_dict(),\n",
    "                    'optimizer_state_dict': optimizer.state_dict(),\n",
    "                    'loss': val_loss,\n",
    "                    'auc': val_auc\n",
    "                }, model_save_path)\n",
    "            except Exception as e:\n",
    "                print(f\"Error saving model: {e}\")\n",
    "        print(\"-\" * 50)\n",
    "\n",
    "    print(\"\\n--- Training Finished ---\")\n",
    "    print(f\"Best Validation AUC achieved: {best_val_auc:.4f}\")\n",
    "    return train_loss_lst, train_acc_lst, val_loss_lst, val_acc_lst"
   ]
  },
  {
   "cell_type": "markdown",
   "id": "b7458bba-26a0-4189-b9c5-47e1596ee206",
   "metadata": {},
   "source": [
    "# Classification Model Definition"
   ]
  },
  {
   "cell_type": "code",
   "execution_count": 16,
   "id": "72c56b1a-142b-4502-9bb5-103b6a629510",
   "metadata": {},
   "outputs": [],
   "source": [
    "class LorentzNet(nn.Module):\n",
    "    def __init__(self, scalar_feature_dim, edge_feature_dim:int = 1, num_graph_features:int = 0,  num_lgeb_layers=3, hidden_dim=72, dropout=0.2):\n",
    "        super().__init__()\n",
    "        self.scalar_embedding = nn.Linear(scalar_feature_dim, hidden_dim)\n",
    "\n",
    "        self.lgeb_layers = nn.ModuleList()\n",
    "        current_scalar_dim = hidden_dim\n",
    "        self.num_graph_features = num_graph_features\n",
    "        for _ in range(num_lgeb_layers):\n",
    "            self.lgeb_layers.append(\n",
    "                LGEBConv(\n",
    "                    scalar_in_channels=current_scalar_dim,\n",
    "                    scalar_out_channels=hidden_dim,\n",
    "                    hidden_mlp_channels=hidden_dim,\n",
    "                    edge_feature_dim=edge_feature_dim,\n",
    "                    edge_mlp_hidden_channels=hidden_dim // 2,\n",
    "                    dropout_rate=dropout\n",
    "                )\n",
    "            )\n",
    "            current_scalar_dim = hidden_dim # Output dim becomes input for next\n",
    "\n",
    "        self.pool = global_mean_pool\n",
    "        self.classifier = nn.Sequential(\n",
    "            nn.Linear(hidden_dim + num_graph_features, 64),\n",
    "            nn.ReLU(),\n",
    "            nn.Dropout(p=0.5),\n",
    "            nn.Linear(64, 1)\n",
    "        )\n",
    "\n",
    "    def forward(self, data):\n",
    "        # data.x :4-vectors [N, 4]\n",
    "        # data.h: initial scalar features [N, initial_scalar_feature_dim]\n",
    "        x_coords, h_scalars, edge_index, edge_attr, batch = data.x_coords, data.h_scalars, data.edge_index, data.edge_attr, data.batch\n",
    "\n",
    "        h_scalars = F.relu(self.scalar_embedding(h_scalars))\n",
    "\n",
    "        for lgeb_layer in self.lgeb_layers:\n",
    "            x_coords, h_scalars = lgeb_layer(x_coords, h_scalars, edge_index, edge_attr)\n",
    "            \n",
    "        pooled_graph_embedding = self.pool(h_scalars, batch)\n",
    "        \n",
    "        if self.num_graph_features != 0:\n",
    "            graph_features = torch.cat([psi_normalization(data.inv_mass_2j1p.view(-1, 1)), \n",
    "                                    psi_normalization(data.isophoton_pT.view(-1, 1))], dim=1)\n",
    "            \n",
    "            graph_embedding_with_graphFeat = torch.cat([pooled_graph_embedding, graph_features], dim=1)\n",
    "            \n",
    "            self.graph_embedding = graph_embedding_with_graphFeat\n",
    "            \n",
    "            out = self.classifier(graph_embedding_with_graphFeat)\n",
    "        else:\n",
    "            self.graph_embedding = pooled_graph_embedding\n",
    "            out = self.classifier(pooled_graph_embedding)\n",
    "        return torch.sigmoid(out)"
   ]
  },
  {
   "cell_type": "markdown",
   "id": "8273081d-3a57-4b70-bcf5-716e3d0ba78d",
   "metadata": {},
   "source": [
    "# Train-Test Splits"
   ]
  },
  {
   "cell_type": "code",
   "execution_count": 17,
   "id": "e1ee54f9-71b5-48b4-88a5-cc0cc23a0afd",
   "metadata": {},
   "outputs": [
    {
     "name": "stdout",
     "output_type": "stream",
     "text": [
      "Number of Graphs in:\n",
      "Training Dataset: 6593\n",
      "Validation Dataset: 1883\n",
      "Test Dataset: 943\n"
     ]
    }
   ],
   "source": [
    "num_graphs = len(dataset)\n",
    "train_ratio, val_ratio, test_ratio = 0.7, 0.2, 0.1\n",
    "train_size = int(train_ratio * num_graphs)\n",
    "val_size = int(val_ratio * num_graphs)\n",
    "test_size = num_graphs - (train_size + val_size)\n",
    "\n",
    "# Random split\n",
    "train_dataset, val_dataset, test_dataset = torch.utils.data.random_split(\n",
    "    dataset, [train_size, val_size, test_size], generator=torch.Generator().manual_seed(seed)\n",
    ")\n",
    "\n",
    "print(f\"Number of Graphs in:\\nTraining Dataset: {len(train_dataset)}\"\n",
    "     f\"\\nValidation Dataset: {len(val_dataset)}\"\n",
    "f\"\\nTest Dataset: {len(test_dataset)}\")"
   ]
  },
  {
   "cell_type": "code",
   "execution_count": 18,
   "id": "3ba3f943-e979-45d3-b154-bb2b3d62e512",
   "metadata": {},
   "outputs": [
    {
     "name": "stdout",
     "output_type": "stream",
     "text": [
      "Using device: cpu\n",
      "\n",
      "--- Starting Training ---\n"
     ]
    },
    {
     "name": "stderr",
     "output_type": "stream",
     "text": [
      "Epoch 1 [Train]: 100%|██████████| 95/95 [00:05<00:00, 18.98it/s, acc=0.6100, loss=0.6692]\n",
      "Epoch 1 [Eval]: 100%|██████████| 27/27 [00:00<00:00, 66.70it/s]\n"
     ]
    },
    {
     "name": "stdout",
     "output_type": "stream",
     "text": [
      "\n",
      "Epoch 1/30 Summary:\n",
      "  Train Loss: 0.6692, Train Acc: 0.6100\n",
      "  Val   Loss: 0.6638, Val   Acc: 0.6139, Val   AUC: 0.6091\n",
      "  Validation F1-Score (macro avg): 0.3804\n",
      "  Validation F1-Score (weighted avg): 0.4671\n",
      "  New best validation AUC: 0.6091. Saving model to ./model_e50_withEdgeAttr_GraphFeat.pt...\n",
      "--------------------------------------------------\n"
     ]
    },
    {
     "name": "stderr",
     "output_type": "stream",
     "text": [
      "Epoch 2 [Train]: 100%|██████████| 95/95 [00:04<00:00, 19.44it/s, acc=0.6343, loss=0.6571]\n",
      "Epoch 2 [Eval]: 100%|██████████| 27/27 [00:00<00:00, 64.19it/s]\n"
     ]
    },
    {
     "name": "stdout",
     "output_type": "stream",
     "text": [
      "\n",
      "Epoch 2/30 Summary:\n",
      "  Train Loss: 0.6571, Train Acc: 0.6343\n",
      "  Val   Loss: 0.6610, Val   Acc: 0.6139, Val   AUC: 0.7109\n",
      "  Validation F1-Score (macro avg): 0.3804\n",
      "  Validation F1-Score (weighted avg): 0.4671\n",
      "  New best validation AUC: 0.7109. Saving model to ./model_e50_withEdgeAttr_GraphFeat.pt...\n",
      "--------------------------------------------------\n"
     ]
    },
    {
     "name": "stderr",
     "output_type": "stream",
     "text": [
      "Epoch 3 [Train]: 100%|██████████| 95/95 [00:04<00:00, 19.09it/s, acc=0.6345, loss=0.6540]\n",
      "Epoch 3 [Eval]: 100%|██████████| 27/27 [00:00<00:00, 64.33it/s]\n"
     ]
    },
    {
     "name": "stdout",
     "output_type": "stream",
     "text": [
      "\n",
      "Epoch 3/30 Summary:\n",
      "  Train Loss: 0.6540, Train Acc: 0.6345\n",
      "  Val   Loss: 0.6558, Val   Acc: 0.6139, Val   AUC: 0.8213\n",
      "  Validation F1-Score (macro avg): 0.3804\n",
      "  Validation F1-Score (weighted avg): 0.4671\n",
      "  New best validation AUC: 0.8213. Saving model to ./model_e50_withEdgeAttr_GraphFeat.pt...\n",
      "--------------------------------------------------\n"
     ]
    },
    {
     "name": "stderr",
     "output_type": "stream",
     "text": [
      "Epoch 4 [Train]: 100%|██████████| 95/95 [00:04<00:00, 19.56it/s, acc=0.6343, loss=0.6442]\n",
      "Epoch 4 [Eval]: 100%|██████████| 27/27 [00:00<00:00, 63.93it/s]\n"
     ]
    },
    {
     "name": "stdout",
     "output_type": "stream",
     "text": [
      "\n",
      "Epoch 4/30 Summary:\n",
      "  Train Loss: 0.6442, Train Acc: 0.6343\n",
      "  Val   Loss: 0.6443, Val   Acc: 0.6139, Val   AUC: 0.8359\n",
      "  Validation F1-Score (macro avg): 0.3804\n",
      "  Validation F1-Score (weighted avg): 0.4671\n",
      "  New best validation AUC: 0.8359. Saving model to ./model_e50_withEdgeAttr_GraphFeat.pt...\n",
      "--------------------------------------------------\n"
     ]
    },
    {
     "name": "stderr",
     "output_type": "stream",
     "text": [
      "Epoch 5 [Train]: 100%|██████████| 95/95 [00:04<00:00, 20.79it/s, acc=0.6706, loss=0.6046]\n",
      "Epoch 5 [Eval]: 100%|██████████| 27/27 [00:00<00:00, 60.66it/s]\n"
     ]
    },
    {
     "name": "stdout",
     "output_type": "stream",
     "text": [
      "\n",
      "Epoch 5/30 Summary:\n",
      "  Train Loss: 0.6046, Train Acc: 0.6706\n",
      "  Val   Loss: 0.5225, Val   Acc: 0.7892, Val   AUC: 0.8559\n",
      "  Validation F1-Score (macro avg): 0.7851\n",
      "  Validation F1-Score (weighted avg): 0.7918\n",
      "  New best validation AUC: 0.8559. Saving model to ./model_e50_withEdgeAttr_GraphFeat.pt...\n",
      "--------------------------------------------------\n"
     ]
    },
    {
     "name": "stderr",
     "output_type": "stream",
     "text": [
      "Epoch 6 [Train]: 100%|██████████| 95/95 [00:04<00:00, 20.26it/s, acc=0.7965, loss=0.4842]\n",
      "Epoch 6 [Eval]: 100%|██████████| 27/27 [00:00<00:00, 55.07it/s]\n"
     ]
    },
    {
     "name": "stdout",
     "output_type": "stream",
     "text": [
      "\n",
      "Epoch 6/30 Summary:\n",
      "  Train Loss: 0.4842, Train Acc: 0.7965\n",
      "  Val   Loss: 0.4347, Val   Acc: 0.8189, Val   AUC: 0.8869\n",
      "  Validation F1-Score (macro avg): 0.8121\n",
      "  Validation F1-Score (weighted avg): 0.8203\n",
      "  New best validation AUC: 0.8869. Saving model to ./model_e50_withEdgeAttr_GraphFeat.pt...\n",
      "--------------------------------------------------\n"
     ]
    },
    {
     "name": "stderr",
     "output_type": "stream",
     "text": [
      "Epoch 7 [Train]: 100%|██████████| 95/95 [00:04<00:00, 20.18it/s, acc=0.8137, loss=0.4466]\n",
      "Epoch 7 [Eval]: 100%|██████████| 27/27 [00:00<00:00, 60.05it/s]\n"
     ]
    },
    {
     "name": "stdout",
     "output_type": "stream",
     "text": [
      "\n",
      "Epoch 7/30 Summary:\n",
      "  Train Loss: 0.4466, Train Acc: 0.8137\n",
      "  Val   Loss: 0.4199, Val   Acc: 0.8258, Val   AUC: 0.8926\n",
      "  Validation F1-Score (macro avg): 0.8158\n",
      "  Validation F1-Score (weighted avg): 0.8256\n",
      "  New best validation AUC: 0.8926. Saving model to ./model_e50_withEdgeAttr_GraphFeat.pt...\n",
      "--------------------------------------------------\n"
     ]
    },
    {
     "name": "stderr",
     "output_type": "stream",
     "text": [
      "Epoch 8 [Train]: 100%|██████████| 95/95 [00:04<00:00, 19.40it/s, acc=0.8227, loss=0.4321]\n",
      "Epoch 8 [Eval]: 100%|██████████| 27/27 [00:00<00:00, 64.36it/s]\n"
     ]
    },
    {
     "name": "stdout",
     "output_type": "stream",
     "text": [
      "\n",
      "Epoch 8/30 Summary:\n",
      "  Train Loss: 0.4321, Train Acc: 0.8227\n",
      "  Val   Loss: 0.4022, Val   Acc: 0.8375, Val   AUC: 0.8962\n",
      "  Validation F1-Score (macro avg): 0.8282\n",
      "  Validation F1-Score (weighted avg): 0.8373\n",
      "  New best validation AUC: 0.8962. Saving model to ./model_e50_withEdgeAttr_GraphFeat.pt...\n",
      "--------------------------------------------------\n"
     ]
    },
    {
     "name": "stderr",
     "output_type": "stream",
     "text": [
      "Epoch 9 [Train]: 100%|██████████| 95/95 [00:04<00:00, 20.38it/s, acc=0.8253, loss=0.4193]\n",
      "Epoch 9 [Eval]: 100%|██████████| 27/27 [00:00<00:00, 60.38it/s]\n"
     ]
    },
    {
     "name": "stdout",
     "output_type": "stream",
     "text": [
      "\n",
      "Epoch 9/30 Summary:\n",
      "  Train Loss: 0.4193, Train Acc: 0.8253\n",
      "  Val   Loss: 0.3920, Val   Acc: 0.8401, Val   AUC: 0.9032\n",
      "  Validation F1-Score (macro avg): 0.8301\n",
      "  Validation F1-Score (weighted avg): 0.8395\n",
      "  New best validation AUC: 0.9032. Saving model to ./model_e50_withEdgeAttr_GraphFeat.pt...\n",
      "--------------------------------------------------\n"
     ]
    },
    {
     "name": "stderr",
     "output_type": "stream",
     "text": [
      "Epoch 10 [Train]: 100%|██████████| 95/95 [00:04<00:00, 20.69it/s, acc=0.8260, loss=0.4107]\n",
      "Epoch 10 [Eval]: 100%|██████████| 27/27 [00:00<00:00, 63.39it/s]\n"
     ]
    },
    {
     "name": "stdout",
     "output_type": "stream",
     "text": [
      "\n",
      "Epoch 10/30 Summary:\n",
      "  Train Loss: 0.4107, Train Acc: 0.8260\n",
      "  Val   Loss: 0.3921, Val   Acc: 0.8444, Val   AUC: 0.9086\n",
      "  Validation F1-Score (macro avg): 0.8298\n",
      "  Validation F1-Score (weighted avg): 0.8411\n",
      "  New best validation AUC: 0.9086. Saving model to ./model_e50_withEdgeAttr_GraphFeat.pt...\n",
      "--------------------------------------------------\n"
     ]
    },
    {
     "name": "stderr",
     "output_type": "stream",
     "text": [
      "Epoch 11 [Train]: 100%|██████████| 95/95 [00:04<00:00, 19.62it/s, acc=0.8392, loss=0.3938]\n",
      "Epoch 11 [Eval]: 100%|██████████| 27/27 [00:00<00:00, 58.05it/s]\n"
     ]
    },
    {
     "name": "stdout",
     "output_type": "stream",
     "text": [
      "\n",
      "Epoch 11/30 Summary:\n",
      "  Train Loss: 0.3938, Train Acc: 0.8392\n",
      "  Val   Loss: 0.3594, Val   Acc: 0.8571, Val   AUC: 0.9164\n",
      "  Validation F1-Score (macro avg): 0.8474\n",
      "  Validation F1-Score (weighted avg): 0.8562\n",
      "  New best validation AUC: 0.9164. Saving model to ./model_e50_withEdgeAttr_GraphFeat.pt...\n",
      "--------------------------------------------------\n"
     ]
    },
    {
     "name": "stderr",
     "output_type": "stream",
     "text": [
      "Epoch 12 [Train]: 100%|██████████| 95/95 [00:04<00:00, 19.79it/s, acc=0.8489, loss=0.3744]\n",
      "Epoch 12 [Eval]: 100%|██████████| 27/27 [00:00<00:00, 61.06it/s]\n"
     ]
    },
    {
     "name": "stdout",
     "output_type": "stream",
     "text": [
      "\n",
      "Epoch 12/30 Summary:\n",
      "  Train Loss: 0.3744, Train Acc: 0.8489\n",
      "  Val   Loss: 0.3492, Val   Acc: 0.8545, Val   AUC: 0.9213\n",
      "  Validation F1-Score (macro avg): 0.8435\n",
      "  Validation F1-Score (weighted avg): 0.8529\n",
      "  New best validation AUC: 0.9213. Saving model to ./model_e50_withEdgeAttr_GraphFeat.pt...\n",
      "--------------------------------------------------\n"
     ]
    },
    {
     "name": "stderr",
     "output_type": "stream",
     "text": [
      "Epoch 13 [Train]: 100%|██████████| 95/95 [00:04<00:00, 19.54it/s, acc=0.8492, loss=0.3781]\n",
      "Epoch 13 [Eval]: 100%|██████████| 27/27 [00:00<00:00, 65.97it/s]\n"
     ]
    },
    {
     "name": "stdout",
     "output_type": "stream",
     "text": [
      "\n",
      "Epoch 13/30 Summary:\n",
      "  Train Loss: 0.3781, Train Acc: 0.8492\n",
      "  Val   Loss: 0.3514, Val   Acc: 0.8524, Val   AUC: 0.9193\n",
      "  Validation F1-Score (macro avg): 0.8425\n",
      "  Validation F1-Score (weighted avg): 0.8515\n",
      "--------------------------------------------------\n"
     ]
    },
    {
     "name": "stderr",
     "output_type": "stream",
     "text": [
      "Epoch 14 [Train]: 100%|██████████| 95/95 [00:04<00:00, 20.07it/s, acc=0.8488, loss=0.3676]\n",
      "Epoch 14 [Eval]: 100%|██████████| 27/27 [00:00<00:00, 63.54it/s]\n"
     ]
    },
    {
     "name": "stdout",
     "output_type": "stream",
     "text": [
      "\n",
      "Epoch 14/30 Summary:\n",
      "  Train Loss: 0.3676, Train Acc: 0.8488\n",
      "  Val   Loss: 0.3402, Val   Acc: 0.8593, Val   AUC: 0.9253\n",
      "  Validation F1-Score (macro avg): 0.8483\n",
      "  Validation F1-Score (weighted avg): 0.8576\n",
      "  New best validation AUC: 0.9253. Saving model to ./model_e50_withEdgeAttr_GraphFeat.pt...\n",
      "--------------------------------------------------\n"
     ]
    },
    {
     "name": "stderr",
     "output_type": "stream",
     "text": [
      "Epoch 15 [Train]: 100%|██████████| 95/95 [00:04<00:00, 19.91it/s, acc=0.8586, loss=0.3622]\n",
      "Epoch 15 [Eval]: 100%|██████████| 27/27 [00:00<00:00, 68.48it/s]\n"
     ]
    },
    {
     "name": "stdout",
     "output_type": "stream",
     "text": [
      "\n",
      "Epoch 15/30 Summary:\n",
      "  Train Loss: 0.3622, Train Acc: 0.8586\n",
      "  Val   Loss: 0.3353, Val   Acc: 0.8593, Val   AUC: 0.9266\n",
      "  Validation F1-Score (macro avg): 0.8502\n",
      "  Validation F1-Score (weighted avg): 0.8586\n",
      "  New best validation AUC: 0.9266. Saving model to ./model_e50_withEdgeAttr_GraphFeat.pt...\n",
      "--------------------------------------------------\n"
     ]
    },
    {
     "name": "stderr",
     "output_type": "stream",
     "text": [
      "Epoch 16 [Train]: 100%|██████████| 95/95 [00:04<00:00, 19.65it/s, acc=0.8530, loss=0.3624]\n",
      "Epoch 16 [Eval]: 100%|██████████| 27/27 [00:00<00:00, 67.81it/s]\n"
     ]
    },
    {
     "name": "stdout",
     "output_type": "stream",
     "text": [
      "\n",
      "Epoch 16/30 Summary:\n",
      "  Train Loss: 0.3624, Train Acc: 0.8530\n",
      "  Val   Loss: 0.3566, Val   Acc: 0.8545, Val   AUC: 0.9184\n",
      "  Validation F1-Score (macro avg): 0.8455\n",
      "  Validation F1-Score (weighted avg): 0.8540\n",
      "--------------------------------------------------\n"
     ]
    },
    {
     "name": "stderr",
     "output_type": "stream",
     "text": [
      "Epoch 17 [Train]: 100%|██████████| 95/95 [00:04<00:00, 20.37it/s, acc=0.8567, loss=0.3579]\n",
      "Epoch 17 [Eval]: 100%|██████████| 27/27 [00:00<00:00, 67.51it/s]\n"
     ]
    },
    {
     "name": "stdout",
     "output_type": "stream",
     "text": [
      "\n",
      "Epoch 17/30 Summary:\n",
      "  Train Loss: 0.3579, Train Acc: 0.8567\n",
      "  Val   Loss: 0.3277, Val   Acc: 0.8625, Val   AUC: 0.9289\n",
      "  Validation F1-Score (macro avg): 0.8532\n",
      "  Validation F1-Score (weighted avg): 0.8616\n",
      "  New best validation AUC: 0.9289. Saving model to ./model_e50_withEdgeAttr_GraphFeat.pt...\n",
      "--------------------------------------------------\n"
     ]
    },
    {
     "name": "stderr",
     "output_type": "stream",
     "text": [
      "Epoch 18 [Train]: 100%|██████████| 95/95 [00:04<00:00, 19.50it/s, acc=0.8583, loss=0.3519]\n",
      "Epoch 18 [Eval]: 100%|██████████| 27/27 [00:00<00:00, 64.15it/s]\n"
     ]
    },
    {
     "name": "stdout",
     "output_type": "stream",
     "text": [
      "\n",
      "Epoch 18/30 Summary:\n",
      "  Train Loss: 0.3519, Train Acc: 0.8583\n",
      "  Val   Loss: 0.3300, Val   Acc: 0.8609, Val   AUC: 0.9292\n",
      "  Validation F1-Score (macro avg): 0.8516\n",
      "  Validation F1-Score (weighted avg): 0.8600\n",
      "  New best validation AUC: 0.9292. Saving model to ./model_e50_withEdgeAttr_GraphFeat.pt...\n",
      "--------------------------------------------------\n"
     ]
    },
    {
     "name": "stderr",
     "output_type": "stream",
     "text": [
      "Epoch 19 [Train]: 100%|██████████| 95/95 [00:04<00:00, 20.24it/s, acc=0.8642, loss=0.3460]\n",
      "Epoch 19 [Eval]: 100%|██████████| 27/27 [00:00<00:00, 68.33it/s]\n"
     ]
    },
    {
     "name": "stdout",
     "output_type": "stream",
     "text": [
      "\n",
      "Epoch 19/30 Summary:\n",
      "  Train Loss: 0.3460, Train Acc: 0.8642\n",
      "  Val   Loss: 0.3265, Val   Acc: 0.8656, Val   AUC: 0.9288\n",
      "  Validation F1-Score (macro avg): 0.8551\n",
      "  Validation F1-Score (weighted avg): 0.8640\n",
      "--------------------------------------------------\n"
     ]
    },
    {
     "name": "stderr",
     "output_type": "stream",
     "text": [
      "Epoch 20 [Train]: 100%|██████████| 95/95 [00:04<00:00, 21.09it/s, acc=0.8655, loss=0.3450]\n",
      "Epoch 20 [Eval]: 100%|██████████| 27/27 [00:00<00:00, 68.80it/s]\n"
     ]
    },
    {
     "name": "stdout",
     "output_type": "stream",
     "text": [
      "\n",
      "Epoch 20/30 Summary:\n",
      "  Train Loss: 0.3450, Train Acc: 0.8655\n",
      "  Val   Loss: 0.3210, Val   Acc: 0.8678, Val   AUC: 0.9317\n",
      "  Validation F1-Score (macro avg): 0.8585\n",
      "  Validation F1-Score (weighted avg): 0.8667\n",
      "  New best validation AUC: 0.9317. Saving model to ./model_e50_withEdgeAttr_GraphFeat.pt...\n",
      "--------------------------------------------------\n"
     ]
    },
    {
     "name": "stderr",
     "output_type": "stream",
     "text": [
      "Epoch 21 [Train]: 100%|██████████| 95/95 [00:04<00:00, 19.55it/s, acc=0.8646, loss=0.3361]\n",
      "Epoch 21 [Eval]: 100%|██████████| 27/27 [00:00<00:00, 66.90it/s]\n"
     ]
    },
    {
     "name": "stdout",
     "output_type": "stream",
     "text": [
      "\n",
      "Epoch 21/30 Summary:\n",
      "  Train Loss: 0.3361, Train Acc: 0.8646\n",
      "  Val   Loss: 0.3331, Val   Acc: 0.8619, Val   AUC: 0.9299\n",
      "  Validation F1-Score (macro avg): 0.8534\n",
      "  Validation F1-Score (weighted avg): 0.8615\n",
      "--------------------------------------------------\n"
     ]
    },
    {
     "name": "stderr",
     "output_type": "stream",
     "text": [
      "Epoch 22 [Train]: 100%|██████████| 95/95 [00:04<00:00, 20.44it/s, acc=0.8595, loss=0.3412]\n",
      "Epoch 22 [Eval]: 100%|██████████| 27/27 [00:00<00:00, 66.79it/s]\n"
     ]
    },
    {
     "name": "stdout",
     "output_type": "stream",
     "text": [
      "\n",
      "Epoch 22/30 Summary:\n",
      "  Train Loss: 0.3412, Train Acc: 0.8595\n",
      "  Val   Loss: 0.3207, Val   Acc: 0.8662, Val   AUC: 0.9322\n",
      "  Validation F1-Score (macro avg): 0.8567\n",
      "  Validation F1-Score (weighted avg): 0.8651\n",
      "  New best validation AUC: 0.9322. Saving model to ./model_e50_withEdgeAttr_GraphFeat.pt...\n",
      "--------------------------------------------------\n"
     ]
    },
    {
     "name": "stderr",
     "output_type": "stream",
     "text": [
      "Epoch 23 [Train]: 100%|██████████| 95/95 [00:04<00:00, 20.24it/s, acc=0.8653, loss=0.3323]\n",
      "Epoch 23 [Eval]: 100%|██████████| 27/27 [00:00<00:00, 69.10it/s]\n"
     ]
    },
    {
     "name": "stdout",
     "output_type": "stream",
     "text": [
      "\n",
      "Epoch 23/30 Summary:\n",
      "  Train Loss: 0.3323, Train Acc: 0.8653\n",
      "  Val   Loss: 0.3117, Val   Acc: 0.8678, Val   AUC: 0.9356\n",
      "  Validation F1-Score (macro avg): 0.8569\n",
      "  Validation F1-Score (weighted avg): 0.8659\n",
      "  New best validation AUC: 0.9356. Saving model to ./model_e50_withEdgeAttr_GraphFeat.pt...\n",
      "--------------------------------------------------\n"
     ]
    },
    {
     "name": "stderr",
     "output_type": "stream",
     "text": [
      "Epoch 24 [Train]: 100%|██████████| 95/95 [00:04<00:00, 20.19it/s, acc=0.8639, loss=0.3360]\n",
      "Epoch 24 [Eval]: 100%|██████████| 27/27 [00:00<00:00, 65.33it/s]\n"
     ]
    },
    {
     "name": "stdout",
     "output_type": "stream",
     "text": [
      "\n",
      "Epoch 24/30 Summary:\n",
      "  Train Loss: 0.3360, Train Acc: 0.8639\n",
      "  Val   Loss: 0.3334, Val   Acc: 0.8593, Val   AUC: 0.9334\n",
      "  Validation F1-Score (macro avg): 0.8520\n",
      "  Validation F1-Score (weighted avg): 0.8595\n",
      "--------------------------------------------------\n"
     ]
    },
    {
     "name": "stderr",
     "output_type": "stream",
     "text": [
      "Epoch 25 [Train]: 100%|██████████| 95/95 [00:04<00:00, 21.12it/s, acc=0.8662, loss=0.3372]\n",
      "Epoch 25 [Eval]: 100%|██████████| 27/27 [00:00<00:00, 65.42it/s]\n"
     ]
    },
    {
     "name": "stdout",
     "output_type": "stream",
     "text": [
      "\n",
      "Epoch 25/30 Summary:\n",
      "  Train Loss: 0.3372, Train Acc: 0.8662\n",
      "  Val   Loss: 0.3117, Val   Acc: 0.8704, Val   AUC: 0.9360\n",
      "  Validation F1-Score (macro avg): 0.8613\n",
      "  Validation F1-Score (weighted avg): 0.8694\n",
      "  New best validation AUC: 0.9360. Saving model to ./model_e50_withEdgeAttr_GraphFeat.pt...\n",
      "--------------------------------------------------\n"
     ]
    },
    {
     "name": "stderr",
     "output_type": "stream",
     "text": [
      "Epoch 26 [Train]: 100%|██████████| 95/95 [00:04<00:00, 19.26it/s, acc=0.8676, loss=0.3289]\n",
      "Epoch 26 [Eval]: 100%|██████████| 27/27 [00:00<00:00, 68.07it/s]\n"
     ]
    },
    {
     "name": "stdout",
     "output_type": "stream",
     "text": [
      "\n",
      "Epoch 26/30 Summary:\n",
      "  Train Loss: 0.3289, Train Acc: 0.8676\n",
      "  Val   Loss: 0.3126, Val   Acc: 0.8640, Val   AUC: 0.9350\n",
      "  Validation F1-Score (macro avg): 0.8531\n",
      "  Validation F1-Score (weighted avg): 0.8623\n",
      "--------------------------------------------------\n"
     ]
    },
    {
     "name": "stderr",
     "output_type": "stream",
     "text": [
      "Epoch 27 [Train]: 100%|██████████| 95/95 [00:04<00:00, 20.36it/s, acc=0.8671, loss=0.3335]\n",
      "Epoch 27 [Eval]: 100%|██████████| 27/27 [00:00<00:00, 68.27it/s]\n"
     ]
    },
    {
     "name": "stdout",
     "output_type": "stream",
     "text": [
      "\n",
      "Epoch 27/30 Summary:\n",
      "  Train Loss: 0.3335, Train Acc: 0.8671\n",
      "  Val   Loss: 0.3135, Val   Acc: 0.8672, Val   AUC: 0.9360\n",
      "  Validation F1-Score (macro avg): 0.8587\n",
      "  Validation F1-Score (weighted avg): 0.8666\n",
      "  New best validation AUC: 0.9360. Saving model to ./model_e50_withEdgeAttr_GraphFeat.pt...\n",
      "--------------------------------------------------\n"
     ]
    },
    {
     "name": "stderr",
     "output_type": "stream",
     "text": [
      "Epoch 28 [Train]: 100%|██████████| 95/95 [00:04<00:00, 19.97it/s, acc=0.8679, loss=0.3346]\n",
      "Epoch 28 [Eval]: 100%|██████████| 27/27 [00:00<00:00, 66.96it/s]\n"
     ]
    },
    {
     "name": "stdout",
     "output_type": "stream",
     "text": [
      "\n",
      "Epoch 28/30 Summary:\n",
      "  Train Loss: 0.3346, Train Acc: 0.8679\n",
      "  Val   Loss: 0.3102, Val   Acc: 0.8656, Val   AUC: 0.9374\n",
      "  Validation F1-Score (macro avg): 0.8540\n",
      "  Validation F1-Score (weighted avg): 0.8634\n",
      "  New best validation AUC: 0.9374. Saving model to ./model_e50_withEdgeAttr_GraphFeat.pt...\n",
      "--------------------------------------------------\n"
     ]
    },
    {
     "name": "stderr",
     "output_type": "stream",
     "text": [
      "Epoch 29 [Train]: 100%|██████████| 95/95 [00:05<00:00, 18.97it/s, acc=0.8667, loss=0.3320]\n",
      "Epoch 29 [Eval]: 100%|██████████| 27/27 [00:00<00:00, 65.32it/s]\n"
     ]
    },
    {
     "name": "stdout",
     "output_type": "stream",
     "text": [
      "\n",
      "Epoch 29/30 Summary:\n",
      "  Train Loss: 0.3320, Train Acc: 0.8667\n",
      "  Val   Loss: 0.3053, Val   Acc: 0.8678, Val   AUC: 0.9376\n",
      "  Validation F1-Score (macro avg): 0.8569\n",
      "  Validation F1-Score (weighted avg): 0.8659\n",
      "  New best validation AUC: 0.9376. Saving model to ./model_e50_withEdgeAttr_GraphFeat.pt...\n",
      "--------------------------------------------------\n"
     ]
    },
    {
     "name": "stderr",
     "output_type": "stream",
     "text": [
      "Epoch 30 [Train]: 100%|██████████| 95/95 [00:04<00:00, 20.31it/s, acc=0.8702, loss=0.3289]\n",
      "Epoch 30 [Eval]: 100%|██████████| 27/27 [00:00<00:00, 67.82it/s]"
     ]
    },
    {
     "name": "stdout",
     "output_type": "stream",
     "text": [
      "\n",
      "Epoch 30/30 Summary:\n",
      "  Train Loss: 0.3289, Train Acc: 0.8702\n",
      "  Val   Loss: 0.3064, Val   Acc: 0.8710, Val   AUC: 0.9373\n",
      "  Validation F1-Score (macro avg): 0.8615\n",
      "  Validation F1-Score (weighted avg): 0.8697\n",
      "--------------------------------------------------\n",
      "\n",
      "--- Training Finished ---\n",
      "Best Validation AUC achieved: 0.9376\n"
     ]
    },
    {
     "name": "stderr",
     "output_type": "stream",
     "text": [
      "\n"
     ]
    }
   ],
   "source": [
    "if __name__ == '__main__':\n",
    "    model = LorentzNet(\n",
    "        scalar_feature_dim = 3, \n",
    "        edge_feature_dim = 1,\n",
    "        num_graph_features = 2,\n",
    "        num_lgeb_layers = 6, \n",
    "        hidden_dim = 72, \n",
    "        dropout = 0.2\n",
    "    )\n",
    "    EPOCHS = 30\n",
    "    LEARNING_RATE = 1e-4\n",
    "    BATCH_SIZE = 70\n",
    "\n",
    "    if 'model' in locals() and 'train_dataset' in locals() and 'val_dataset' in locals():\n",
    "        train_loss_lst, train_acc_lst, val_loss_lst, val_acc_lst = run_training_pipeline(\n",
    "            model=model,\n",
    "            train_dataset=train_dataset,\n",
    "            val_dataset=val_dataset,\n",
    "            num_epochs=EPOCHS,\n",
    "            batch_size=BATCH_SIZE,\n",
    "            learning_rate=LEARNING_RATE,\n",
    "            device_str='cuda' if torch.cuda.is_available() else 'cpu',\n",
    "            model_save_path='./model_e50_withEdgeAttr_GraphFeat.pt',\n",
    "            log_interval_train=1\n",
    "        )\n",
    "    else:\n",
    "        print(\"\\nSkipping training loop as model or datasets are not defined in this example.\")"
   ]
  },
  {
   "cell_type": "code",
   "execution_count": 19,
   "id": "59eaa1f1-d44e-4804-a249-00965bfee61b",
   "metadata": {},
   "outputs": [
    {
     "data": {
      "image/png": "[encoded data removed]",
      "text/plain": [
       "<Figure size 1200x600 with 2 Axes>"
      ]
     },
     "metadata": {},
     "output_type": "display_data"
    }
   ],
   "source": [
    "fig, axs = plt.subplots(1,2, figsize = (12,6))\n",
    "\n",
    "axs[0].plot([epoch for epoch in range(EPOCHS)], train_loss_lst, color = 'r', label = 'Training Loss')\n",
    "axs[0].plot([epoch for epoch in range(EPOCHS)], val_loss_lst, color = 'g', label = 'Validation Loss')\n",
    "axs[0].legend()\n",
    "axs[0].set_title('Training/Validation Loss vs. Epochs')\n",
    "axs[0].set_xlabel('Epochs')\n",
    "# axs[0].ylim([0,1])\n",
    "axs[0].grid(which = 'both')\n",
    "\n",
    "\n",
    "axs[1].plot([epoch for epoch in range(EPOCHS)], train_acc_lst, color = 'r', label = 'Training Loss')\n",
    "axs[1].plot([epoch for epoch in range(EPOCHS)], val_acc_lst, color = 'g', label = 'Validation Loss')\n",
    "axs[1].legend()\n",
    "axs[1].set_title('Training/Validation Accuracy vs. Epochs')\n",
    "axs[1].set_xlabel('Epochs')\n",
    "# axs[1].ylim([0,1])\n",
    "axs[1].grid(which = 'both')\n",
    "# plt.savefig('GCNConvTrainingLoss_TestAccuracy.png', dpi=300)\n",
    "plt.show()"
   ]
  },
  {
   "cell_type": "code",
   "execution_count": null,
   "id": "4e4404bd-8caa-44e3-a21e-81e7e436bd71",
   "metadata": {},
   "outputs": [],
   "source": []
  },
  {
   "cell_type": "code",
   "execution_count": null,
   "id": "75936e25-0efe-410f-815a-857ee78ba57d",
   "metadata": {},
   "outputs": [],
   "source": []
  }
 ],
 "metadata": {
  "kernelspec": {
   "display_name": "Python 3",
   "language": "python",
   "name": "python3"
  },
  "language_info": {
   "codemirror_mode": {
    "name": "ipython",
    "version": 3
   },
   "file_extension": ".py",
   "mimetype": "text/x-python",
   "name": "python",
   "nbconvert_exporter": "python",
   "pygments_lexer": "ipython3",
   "version": "3.10.10"
  }
 },
 "nbformat": 4,
 "nbformat_minor": 5
}
