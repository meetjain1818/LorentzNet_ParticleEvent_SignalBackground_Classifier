{
 "cells": [
  {
   "cell_type": "code",
   "execution_count": 12,
   "id": "fc25c852-5fcc-4670-9909-47a3219f337a",
   "metadata": {},
   "outputs": [
    {
     "name": "stdout",
     "output_type": "stream",
     "text": [
      "Using device: cpu\n",
      "System CUDA Status:\n",
      "- PyTorch version: 2.7.0+cu128\n",
      "- CUDA Version: 12.8\n",
      "- CUDA available: False\n",
      "\n",
      "PyTorch Geometric Status:\n",
      "- PyG version: 2.6.1\n",
      "- torch_scatter: Installed\n",
      "- torch_sparse: Installed\n",
      "- torch_cluster: Installed\n",
      "- torch_spline_conv: Installed\n"
     ]
    }
   ],
   "source": [
    "import numpy as np\n",
    "import torch\n",
    "import matplotlib.pyplot as plt\n",
    "import torch_geometric\n",
    "from torch_geometric.loader import DataLoader\n",
    "import pandas as pd\n",
    "import random\n",
    "from torch_geometric.data import Data\n",
    "import torch.nn.functional as F\n",
    "from torch_geometric.nn import global_mean_pool, NNConv\n",
    "from tqdm import tqdm\n",
    "import torch.optim as optim\n",
    "import json\n",
    "import pprint \n",
    "import os\n",
    "\n",
    "from helper_function_module import init_setup\n",
    "seed = 324\n",
    "device = init_setup(use_cuda = True, \n",
    "           random_seed = seed)"
   ]
  },
  {
   "cell_type": "code",
   "execution_count": 2,
   "id": "e163edbf-355d-44ab-91d9-e3ee6a59f5e4",
   "metadata": {},
   "outputs": [
    {
     "name": "stdout",
     "output_type": "stream",
     "text": [
      "Signal Event: 3488\n",
      "Example:\n",
      "{'edge_index': [[0, 1, 0, 2, 0, 3, 1, 2, 1, 3, 2, 3],\n",
      "                [1, 0, 2, 0, 3, 0, 2, 1, 3, 1, 3, 2]],\n",
      " 'edges': [2.5641443618238835,\n",
      "           2.5641443618238835,\n",
      "           2.5490602851271214,\n",
      "           2.5490602851271214,\n",
      "           3.022994422413313,\n",
      "           3.022994422413313,\n",
      "           1.2651238482878897,\n",
      "           1.2651238482878897,\n",
      "           0.4659171652523055,\n",
      "           0.4659171652523055,\n",
      "           0.844308033285696,\n",
      "           0.844308033285696],\n",
      " 'event_label': 1,\n",
      " 'eventno': 154919,\n",
      " 'h_scalars': [[0.0, 0.0, 0.05009660667259409],\n",
      "               [1.0, 1.0, 0.03743605848664781],\n",
      "               [1.0, 0.0, 0.04799066054882075],\n",
      "               [1.0, 1.0, 0.021721141775113063]],\n",
      " 'invMass_2leadingbj': 8.283352862221644,\n",
      " 'invMass_2leadingbj1p': 97.83095425342164,\n",
      " 'jet_btag_label': [None, 1.0, 0.0, 1.0],\n",
      " 'leading_isophoton_pT': 63.4451,\n",
      " 'node_labels': [0, 1, 1, 1],\n",
      " 'nodes': [[0.408805, -0.583848, 63.4451, 68.8208],\n",
      "           [-0.0684289, -3.10319, 22.8183, 22.8717],\n",
      "           [-0.0940044, 1.91513, 19.1622, 19.247],\n",
      "           [-0.239827, 2.74675, 14.0353, 14.4409]],\n",
      " 'num_btag_jets': 2,\n",
      " 'num_isophotons': 1,\n",
      " 'num_nodes': 4,\n",
      " 'x_coords': [[68.8208, 52.9352, -34.9733, 26.6652],\n",
      "              [22.8717, -22.8014, -0.876095, -1.56265],\n",
      "              [19.247, -6.46858, 18.0374, -1.80399],\n",
      "              [14.4409, -12.9554, 5.39884, -3.39842]]}\n",
      "~~~~~~~~~~~~~~~~~~~~~~~~~~~~~~~~~~~~~~~~~~~~~~~~~~~~~~~~~~~~~~~~~~~~~~~~~~~~~~~~~~~~~~~~~~~~~~~~~~~~\n",
      "Background Event: 5931\n",
      "Example:\n",
      "{'edge_index': [[0, 1, 0, 2, 1, 2], [1, 0, 2, 0, 2, 1]],\n",
      " 'edges': [2.4751594497124825,\n",
      "           2.4751594497124825,\n",
      "           2.3535679549369255,\n",
      "           2.3535679549369255,\n",
      "           2.8316896699788625,\n",
      "           2.8316896699788625],\n",
      " 'event_label': 0,\n",
      " 'eventno': 409116,\n",
      " 'h_scalars': [[0.0, 0.0, 0.06095555019851102],\n",
      "               [1.0, 1.0, 0.0],\n",
      "               [1.0, 1.0, 0.0]],\n",
      " 'invMass_2leadingbj': 57.117532722886416,\n",
      " 'invMass_2leadingbj1p': 86.74144607354145,\n",
      " 'jet_btag_label': [None, 1.0, 1.0],\n",
      " 'leading_isophoton_pT': 15.593,\n",
      " 'node_labels': [0, 1, 1],\n",
      " 'nodes': [[0.789462, -2.83172, 15.593, 20.7099],\n",
      "           [-0.118463, -0.529094, 29.7761, 29.9852],\n",
      "           [-1.1445, 2.11017, 22.3541, 38.6642]],\n",
      " 'num_btag_jets': 2,\n",
      " 'num_isophotons': 1,\n",
      " 'num_nodes': 3,\n",
      " 'x_coords': [[20.7099, -14.8503, -4.75497, 13.6292],\n",
      "              [29.9852, 25.7046, -15.0295, -3.5356],\n",
      "              [38.6642, -11.4811, 19.1805, -31.547]]}\n"
     ]
    }
   ],
   "source": [
    "BASE_JSON_DATA_DIR = \"/teamspace/studios/this_studio\"\n",
    "signal_path = os.path.join(BASE_JSON_DATA_DIR, \"onlyAny2bj_onlyAny1p/ppzaxbba_ax15_200k_minpt10_15jets_etafiltered_corrected_onlyAny2bj_onlyAny1p_LorentzNet_data.json\")\n",
    "background_path = os.path.join(BASE_JSON_DATA_DIR, \"onlyAny2bj_onlyAny1p/ppbba_500k_minpt10_15jets_etafiltered_corrected_onlyAny2bj_onlyAny1p_LorentzNet_data.json\")\n",
    "\n",
    "with open(signal_path, 'r') as file:\n",
    "    signal = json.load(file)\n",
    "\n",
    "with open(background_path, 'r') as file:\n",
    "    background = json.load(file)\n",
    "\n",
    "pp = pprint.PrettyPrinter(indent=1)\n",
    "\n",
    "print(f\"Signal Event: {len(signal)}\")\n",
    "print(\"Example:\")\n",
    "pp.pprint(signal[np.random.randint(0, len(signal))])\n",
    "print(100*'~')\n",
    "\n",
    "print(f\"Background Event: {len(background)}\")\n",
    "print(\"Example:\")\n",
    "pp.pprint(background[np.random.randint(0, len(background))])"
   ]
  },
  {
   "cell_type": "markdown",
   "id": "c6b0ac41-b406-4aa2-869c-0431b0de5ed4",
   "metadata": {},
   "source": [
    "# Converting Each Event into a PyG Graph Object"
   ]
  },
  {
   "cell_type": "code",
   "execution_count": 3,
   "id": "500e7b45-b917-44dd-9244-dee0589fbf6b",
   "metadata": {},
   "outputs": [
    {
     "name": "stdout",
     "output_type": "stream",
     "text": [
      "Initializing the process...\n"
     ]
    },
    {
     "name": "stderr",
     "output_type": "stream",
     "text": [
      "Progress: 100%|██████████| 3488/3488 [00:00<00:00, 5046.34it/s]\n"
     ]
    },
    {
     "name": "stdout",
     "output_type": "stream",
     "text": [
      "Process completed successfully :)\n",
      "Initializing the process...\n"
     ]
    },
    {
     "name": "stderr",
     "output_type": "stream",
     "text": [
      "Progress: 100%|██████████| 5931/5931 [00:01<00:00, 4468.25it/s]"
     ]
    },
    {
     "name": "stdout",
     "output_type": "stream",
     "text": [
      "Process completed successfully :)\n"
     ]
    },
    {
     "name": "stderr",
     "output_type": "stream",
     "text": [
      "\n"
     ]
    }
   ],
   "source": [
    "from convert_to_pygData import convert_all_to_pyg_graphs\n",
    "signal_pyg_graphs = convert_all_to_pyg_graphs(signal, normalize_features = False)\n",
    "background_pyg_graphs = convert_all_to_pyg_graphs(background, normalize_features = False)"
   ]
  },
  {
   "cell_type": "code",
   "execution_count": 4,
   "id": "6c6fe52a-fd62-4d3b-a4d3-8abed01bddfe",
   "metadata": {},
   "outputs": [
    {
     "name": "stdout",
     "output_type": "stream",
     "text": [
      "Dataset contains 9419 samples\n"
     ]
    }
   ],
   "source": [
    "dataset = []\n",
    "for data in signal_pyg_graphs + background_pyg_graphs:\n",
    "    if (data.number_of_nodes >= 3):\n",
    "    # & (data.num_isophotons == 1) & (data.num_btag_jets == 2):\n",
    "        dataset.append(data)\n",
    "\n",
    "random.seed(seed)\n",
    "dataset = random.sample(dataset, len(dataset))\n",
    "print(f'Dataset contains {len(dataset)} samples')"
   ]
  },
  {
   "cell_type": "code",
   "execution_count": 5,
   "id": "bab7e6cc-b9d9-42b8-b437-6f00c3e66976",
   "metadata": {},
   "outputs": [
    {
     "name": "stdout",
     "output_type": "stream",
     "text": [
      "Example Graph Data Object:\n",
      "Data(x=[4, 3], edge_index=[2, 12], edge_attr=[12, 1], y=0, eventno=66936, number_of_nodes=4.0, inv_mass_2j1p=74.16099548339844, inv_mass_2j=61.175655364990234, num_isophotons=1.0, num_btag_jets=2.0, node_label=[4, 1], jet_btag_label=[4, 1], isophoton_pT=14.421799659729004, h_scalars=[4, 3], x_coords=[4, 4])\n"
     ]
    }
   ],
   "source": [
    "idx = 54\n",
    "print(\"Example Graph Data Object:\")\n",
    "sample_graph = dataset[idx]\n",
    "print(sample_graph)"
   ]
  },
  {
   "cell_type": "code",
   "execution_count": 6,
   "id": "5ed44c67-fea0-48f4-b423-8d48d76970cd",
   "metadata": {},
   "outputs": [
    {
     "data": {
      "text/plain": [
       "tensor([[-1.],\n",
       "        [ 1.],\n",
       "        [ 1.],\n",
       "        [ 0.]])"
      ]
     },
     "execution_count": 6,
     "metadata": {},
     "output_type": "execute_result"
    }
   ],
   "source": [
    "sample_graph.jet_btag_label"
   ]
  },
  {
   "cell_type": "markdown",
   "id": "dda8e793-3c43-42cb-b9de-69d0f886e843",
   "metadata": {},
   "source": [
    "# Train-Test Splits"
   ]
  },
  {
   "cell_type": "code",
   "execution_count": 7,
   "id": "e1ee54f9-71b5-48b4-88a5-cc0cc23a0afd",
   "metadata": {},
   "outputs": [
    {
     "name": "stdout",
     "output_type": "stream",
     "text": [
      "Number of Graphs in:\n",
      "Training Dataset: 6593(70.0%)\n",
      "Test Dataset: 2826(30.0%)\n"
     ]
    }
   ],
   "source": [
    "num_graphs = len(dataset)\n",
    "train_ratio, test_ratio = 0.7, 0.3\n",
    "train_size = int(train_ratio * num_graphs)\n",
    "test_size = num_graphs - train_size\n",
    "\n",
    "# Random split\n",
    "train_dataset, test_dataset = torch.utils.data.random_split(\n",
    "    dataset, [train_size, test_size], generator=torch.Generator().manual_seed(seed)\n",
    ")\n",
    "\n",
    "print(f\"Number of Graphs in:\\nTraining Dataset: {len(train_dataset)}({len(train_dataset)/num_graphs:.1%})\"\n",
    "f\"\\nTest Dataset: {len(test_dataset)}({len(test_dataset)/num_graphs:.1%})\")"
   ]
  },
  {
   "cell_type": "markdown",
   "id": "b7458bba-26a0-4189-b9c5-47e1596ee206",
   "metadata": {},
   "source": [
    "# Classification Model Definition"
   ]
  },
  {
   "cell_type": "code",
   "execution_count": 8,
   "id": "72c56b1a-142b-4502-9bb5-103b6a629510",
   "metadata": {},
   "outputs": [],
   "source": [
    "from LGEB_block import LGEBConv\n",
    "import torch.nn as nn\n",
    "class LorentzNet(nn.Module):\n",
    "    def __init__(self, scalar_feature_dim, edge_feature_dim:int = 1, num_graph_features:int = 0,  num_lgeb_layers=3, hidden_dim=72, dropout=0.2):\n",
    "        super().__init__()\n",
    "        self.scalar_embedding = nn.Linear(scalar_feature_dim, hidden_dim)\n",
    "\n",
    "        self.lgeb_layers = nn.ModuleList()\n",
    "        current_scalar_dim = hidden_dim\n",
    "        self.num_graph_features = num_graph_features\n",
    "        for _ in range(num_lgeb_layers):\n",
    "            self.lgeb_layers.append(\n",
    "                LGEBConv(\n",
    "                    scalar_in_channels=current_scalar_dim,\n",
    "                    scalar_out_channels=hidden_dim,\n",
    "                    hidden_mlp_channels=hidden_dim,\n",
    "                    edge_feature_dim=edge_feature_dim,\n",
    "                    edge_mlp_hidden_channels=hidden_dim // 2,\n",
    "                    dropout_rate=dropout\n",
    "                )\n",
    "            )\n",
    "            current_scalar_dim = hidden_dim \n",
    "        self.pool = global_mean_pool\n",
    "        self.classifier = nn.Sequential(\n",
    "            nn.Linear(hidden_dim + num_graph_features, 64),\n",
    "            nn.ReLU(),\n",
    "            nn.Dropout(p=0.5),\n",
    "            nn.Linear(64, 1)\n",
    "        )\n",
    "\n",
    "    def forward(self, data):\n",
    "        # data.x :4-vectors [N, 4]\n",
    "        # data.h: initial scalar features [N, initial_scalar_feature_dim]\n",
    "        x_coords, h_scalars, edge_index, edge_attr, batch = data.x_coords, data.h_scalars, data.edge_index, data.edge_attr, data.batch\n",
    "\n",
    "        h_scalars = F.relu(self.scalar_embedding(h_scalars))\n",
    "        \n",
    "        for lgeb_layer in self.lgeb_layers:\n",
    "            x_coords, h_scalars = lgeb_layer(x_coords, h_scalars, edge_index, edge_attr)\n",
    "            \n",
    "        pooled_graph_embedding = self.pool(h_scalars, batch)\n",
    "        \n",
    "        if self.num_graph_features != 0:\n",
    "            graph_features = torch.cat([psi_normalization(data.inv_mass_2j1p.view(-1, 1)), \n",
    "                                    psi_normalization(data.isophoton_pT.view(-1, 1))], dim=1)\n",
    "            \n",
    "            graph_embedding_with_graphFeat = torch.cat([pooled_graph_embedding, graph_features], dim=1)\n",
    "            \n",
    "            self.graph_embedding = graph_embedding_with_graphFeat\n",
    "            \n",
    "            out = self.classifier(graph_embedding_with_graphFeat)\n",
    "        else:\n",
    "            self.graph_embedding = pooled_graph_embedding\n",
    "            out = self.classifier(pooled_graph_embedding)\n",
    "        return torch.sigmoid(out)"
   ]
  },
  {
   "cell_type": "code",
   "execution_count": 10,
   "id": "3ba3f943-e979-45d3-b154-bb2b3d62e512",
   "metadata": {},
   "outputs": [
    {
     "name": "stdout",
     "output_type": "stream",
     "text": [
      "Using device: cpu\n",
      "\n",
      "--- Starting Training ---\n"
     ]
    },
    {
     "name": "stderr",
     "output_type": "stream",
     "text": [
      "Epoch 1 [Train]: 100%|██████████| 95/95 [00:02<00:00, 46.23it/s, acc=0.6245, loss=0.6649]\n",
      "Epoch 1 [Eval]: 100%|██████████| 41/41 [00:00<00:00, 104.32it/s]\n"
     ]
    },
    {
     "name": "stdout",
     "output_type": "stream",
     "text": [
      "  New best validation AUC: 0.6171. Saving model to ./model_e50_withEdgeAttr_GraphFeat.pt...\n",
      "--------------------------------------------------\n"
     ]
    },
    {
     "name": "stderr",
     "output_type": "stream",
     "text": [
      "Epoch 2 [Train]: 100%|██████████| 95/95 [00:02<00:00, 44.92it/s, acc=0.6285, loss=0.6584]\n",
      "Epoch 2 [Eval]: 100%|██████████| 41/41 [00:00<00:00, 89.72it/s]\n"
     ]
    },
    {
     "name": "stdout",
     "output_type": "stream",
     "text": [
      "  New best validation AUC: 0.7088. Saving model to ./model_e50_withEdgeAttr_GraphFeat.pt...\n",
      "--------------------------------------------------\n"
     ]
    },
    {
     "name": "stderr",
     "output_type": "stream",
     "text": [
      "Epoch 3 [Train]: 100%|██████████| 95/95 [00:02<00:00, 43.96it/s, acc=0.6973, loss=0.5826]\n",
      "Epoch 3 [Eval]: 100%|██████████| 41/41 [00:00<00:00, 110.71it/s]\n"
     ]
    },
    {
     "name": "stdout",
     "output_type": "stream",
     "text": [
      "  New best validation AUC: 0.8542. Saving model to ./model_e50_withEdgeAttr_GraphFeat.pt...\n",
      "--------------------------------------------------\n"
     ]
    },
    {
     "name": "stderr",
     "output_type": "stream",
     "text": [
      "Epoch 4 [Train]: 100%|██████████| 95/95 [00:02<00:00, 43.85it/s, acc=0.8012, loss=0.4766]\n",
      "Epoch 4 [Eval]: 100%|██████████| 41/41 [00:00<00:00, 91.91it/s]\n"
     ]
    },
    {
     "name": "stdout",
     "output_type": "stream",
     "text": [
      "  New best validation AUC: 0.8704. Saving model to ./model_e50_withEdgeAttr_GraphFeat.pt...\n",
      "--------------------------------------------------\n"
     ]
    },
    {
     "name": "stderr",
     "output_type": "stream",
     "text": [
      "Epoch 5 [Train]: 100%|██████████| 95/95 [00:02<00:00, 45.26it/s, acc=0.8042, loss=0.4578]\n",
      "Epoch 5 [Eval]: 100%|██████████| 41/41 [00:00<00:00, 92.59it/s]\n"
     ]
    },
    {
     "name": "stdout",
     "output_type": "stream",
     "text": [
      "\n",
      "Epoch 5/10 Summary:\n",
      "  Train Loss: 0.4578, Train Acc: 0.8042\n",
      "  Val   Loss: 0.4262, Val   Acc: 0.8259, Val   AUC: 0.8732\n",
      "  Validation F1-Score (macro avg): 0.8111\n",
      "  Validation F1-Score (weighted avg): 0.8251\n",
      "  New best validation AUC: 0.8732. Saving model to ./model_e50_withEdgeAttr_GraphFeat.pt...\n",
      "--------------------------------------------------\n"
     ]
    },
    {
     "name": "stderr",
     "output_type": "stream",
     "text": [
      "Epoch 6 [Train]: 100%|██████████| 95/95 [00:02<00:00, 45.04it/s, acc=0.8127, loss=0.4517]\n",
      "Epoch 6 [Eval]: 100%|██████████| 41/41 [00:00<00:00, 91.08it/s]\n"
     ]
    },
    {
     "name": "stdout",
     "output_type": "stream",
     "text": [
      "  New best validation AUC: 0.8823. Saving model to ./model_e50_withEdgeAttr_GraphFeat.pt...\n",
      "--------------------------------------------------\n"
     ]
    },
    {
     "name": "stderr",
     "output_type": "stream",
     "text": [
      "Epoch 7 [Train]: 100%|██████████| 95/95 [00:02<00:00, 46.23it/s, acc=0.8210, loss=0.4398]\n",
      "Epoch 7 [Eval]: 100%|██████████| 41/41 [00:00<00:00, 93.04it/s]\n"
     ]
    },
    {
     "name": "stdout",
     "output_type": "stream",
     "text": [
      "  New best validation AUC: 0.8873. Saving model to ./model_e50_withEdgeAttr_GraphFeat.pt...\n",
      "--------------------------------------------------\n"
     ]
    },
    {
     "name": "stderr",
     "output_type": "stream",
     "text": [
      "Epoch 8 [Train]: 100%|██████████| 95/95 [00:02<00:00, 43.77it/s, acc=0.8189, loss=0.4343]\n",
      "Epoch 8 [Eval]: 100%|██████████| 41/41 [00:00<00:00, 89.51it/s]\n"
     ]
    },
    {
     "name": "stdout",
     "output_type": "stream",
     "text": [
      "  New best validation AUC: 0.8987. Saving model to ./model_e50_withEdgeAttr_GraphFeat.pt...\n",
      "--------------------------------------------------\n"
     ]
    },
    {
     "name": "stderr",
     "output_type": "stream",
     "text": [
      "Epoch 9 [Train]: 100%|██████████| 95/95 [00:02<00:00, 47.01it/s, acc=0.8180, loss=0.4291]\n",
      "Epoch 9 [Eval]: 100%|██████████| 41/41 [00:00<00:00, 98.24it/s] \n"
     ]
    },
    {
     "name": "stdout",
     "output_type": "stream",
     "text": [
      "  New best validation AUC: 0.9025. Saving model to ./model_e50_withEdgeAttr_GraphFeat.pt...\n",
      "--------------------------------------------------\n"
     ]
    },
    {
     "name": "stderr",
     "output_type": "stream",
     "text": [
      "Epoch 10 [Train]: 100%|██████████| 95/95 [00:02<00:00, 43.64it/s, acc=0.8268, loss=0.4099]\n",
      "Epoch 10 [Eval]: 100%|██████████| 41/41 [00:00<00:00, 88.63it/s]"
     ]
    },
    {
     "name": "stdout",
     "output_type": "stream",
     "text": [
      "\n",
      "Epoch 10/10 Summary:\n",
      "  Train Loss: 0.4099, Train Acc: 0.8268\n",
      "  Val   Loss: 0.3696, Val   Acc: 0.8507, Val   AUC: 0.9144\n",
      "  Validation F1-Score (macro avg): 0.8348\n",
      "  Validation F1-Score (weighted avg): 0.8484\n",
      "  New best validation AUC: 0.9144. Saving model to ./model_e50_withEdgeAttr_GraphFeat.pt...\n",
      "--------------------------------------------------\n",
      "\n",
      "--- Training Finished ---\n",
      "Best Validation AUC achieved: 0.9144\n"
     ]
    },
    {
     "name": "stderr",
     "output_type": "stream",
     "text": [
      "\n"
     ]
    }
   ],
   "source": [
    "from train_val_functions import run_training_pipeline\n",
    "if __name__ == '__main__':\n",
    "    model = LorentzNet(\n",
    "        scalar_feature_dim = 3, \n",
    "        edge_feature_dim = 1,\n",
    "        num_graph_features = 0,\n",
    "        num_lgeb_layers = 3, \n",
    "        hidden_dim = 20, \n",
    "        dropout = 0.2\n",
    "    )\n",
    "    EPOCHS = 10\n",
    "    LEARNING_RATE = 1e-3\n",
    "    BATCH_SIZE = 70\n",
    "\n",
    "    if 'model' in locals() and 'train_dataset' in locals() and 'test_dataset' in locals():\n",
    "        train_loss_lst, train_acc_lst, val_loss_lst, val_acc_lst = run_training_pipeline(\n",
    "            model=model,\n",
    "            train_dataset=train_dataset,\n",
    "            val_dataset=test_dataset,\n",
    "            num_epochs=EPOCHS,\n",
    "            batch_size=BATCH_SIZE,\n",
    "            learning_rate=LEARNING_RATE,\n",
    "            device_str='cuda' if torch.cuda.is_available() else 'cpu',\n",
    "            model_save_path='./model_e50_withEdgeAttr_GraphFeat.pt',\n",
    "            log_interval_train=1,\n",
    "            verbose_frequency = 5\n",
    "        )\n",
    "    else:\n",
    "        print(\"\\nSkipping training loop as model or datasets are not defined in this example.\")"
   ]
  },
  {
   "cell_type": "code",
   "execution_count": 13,
   "id": "59eaa1f1-d44e-4804-a249-00965bfee61b",
   "metadata": {},
   "outputs": [
    {
     "data": {
      "image/png": "[encoded data removed]",
      "text/plain": [
       "<Figure size 1200x600 with 2 Axes>"
      ]
     },
     "metadata": {},
     "output_type": "display_data"
    }
   ],
   "source": [
    "fig, axs = plt.subplots(1,2, figsize = (12,6))\n",
    "\n",
    "axs[0].plot([epoch for epoch in range(EPOCHS)], train_loss_lst, color = 'r', label = 'Training Loss')\n",
    "axs[0].plot([epoch for epoch in range(EPOCHS)], val_loss_lst, color = 'g', label = 'Validation Loss')\n",
    "axs[0].legend()\n",
    "axs[0].set_title('Training/Validation Loss vs. Epochs')\n",
    "axs[0].set_xlabel('Epochs')\n",
    "# axs[0].ylim([0,1])\n",
    "axs[0].grid(which = 'both')\n",
    "\n",
    "\n",
    "axs[1].plot([epoch for epoch in range(EPOCHS)], train_acc_lst, color = 'r', label = 'Training Loss')\n",
    "axs[1].plot([epoch for epoch in range(EPOCHS)], val_acc_lst, color = 'g', label = 'Validation Loss')\n",
    "axs[1].legend()\n",
    "axs[1].set_title('Training/Validation Accuracy vs. Epochs')\n",
    "axs[1].set_xlabel('Epochs')\n",
    "# axs[1].ylim([0,1])\n",
    "axs[1].grid(which = 'both')\n",
    "# plt.savefig('GCNConvTrainingLoss_TestAccuracy.png', dpi=300)\n",
    "plt.show()"
   ]
  },
  {
   "cell_type": "markdown",
   "id": "a4c34e41-8427-4c83-a8cc-07dde49619f2",
   "metadata": {},
   "source": [
    "# Hyperparameter Tuning"
   ]
  },
  {
   "cell_type": "code",
   "execution_count": 14,
   "id": "75936e25-0efe-410f-815a-857ee78ba57d",
   "metadata": {},
   "outputs": [
    {
     "name": "stdout",
     "output_type": "stream",
     "text": [
      "Starting hyperparameter tuning on device: cpu\n",
      "Scoring metric: AUC\n",
      "Total hyperparameter combinations to try: 64\n",
      "\n",
      "--- Combination 1/64 ---\n",
      "Parameters: {'batch_size': 32, 'dropout': 0.3, 'hidden_dim': 32, 'lr': 0.001, 'num_graph_features': 0, 'num_lgeb_layers': 3}\n",
      "  Fold 1/3\n"
     ]
    },
    {
     "ename": "RuntimeError",
     "evalue": "mat1 and mat2 shapes cannot be multiplied (142x3 and 4x32)",
     "output_type": "error",
     "traceback": [
      "\u001b[0;31m---------------------------------------------------------------------------\u001b[0m",
      "\u001b[0;31mRuntimeError\u001b[0m                              Traceback (most recent call last)",
      "Cell \u001b[0;32mIn[14], line 236\u001b[0m\n\u001b[1;32m    231\u001b[0m default_optimizer_args_example \u001b[38;5;241m=\u001b[39m {\n\u001b[1;32m    232\u001b[0m     \u001b[38;5;124m'\u001b[39m\u001b[38;5;124mweight_decay\u001b[39m\u001b[38;5;124m'\u001b[39m: \u001b[38;5;241m1e-5\u001b[39m\n\u001b[1;32m    233\u001b[0m }\n\u001b[1;32m    235\u001b[0m \u001b[38;5;66;03m# 5. Run the tuning\u001b[39;00m\n\u001b[0;32m--> 236\u001b[0m best_params_found, best_val_score, all_run_results \u001b[38;5;241m=\u001b[39m \u001b[43mhyperparameter_tuning_cv\u001b[49m\u001b[43m(\u001b[49m\n\u001b[1;32m    237\u001b[0m \u001b[43m    \u001b[49m\u001b[43mmodel_class\u001b[49m\u001b[38;5;241;43m=\u001b[39;49m\u001b[43mLorentzNet\u001b[49m\u001b[43m,\u001b[49m\n\u001b[1;32m    238\u001b[0m \u001b[43m    \u001b[49m\u001b[43mtrain_dataset\u001b[49m\u001b[38;5;241;43m=\u001b[39;49m\u001b[43mtrain_dataset\u001b[49m\u001b[43m,\u001b[49m\n\u001b[1;32m    239\u001b[0m \u001b[43m    \u001b[49m\u001b[43mparam_grid\u001b[49m\u001b[38;5;241;43m=\u001b[39;49m\u001b[43mparam_grid\u001b[49m\u001b[43m,\u001b[49m\n\u001b[1;32m    240\u001b[0m \u001b[43m    \u001b[49m\u001b[43mn_splits\u001b[49m\u001b[38;5;241;43m=\u001b[39;49m\u001b[38;5;241;43m3\u001b[39;49m\u001b[43m,\u001b[49m\n\u001b[1;32m    241\u001b[0m \u001b[43m    \u001b[49m\u001b[43mnum_epochs\u001b[49m\u001b[38;5;241;43m=\u001b[39;49m\u001b[38;5;241;43m10\u001b[39;49m\u001b[43m,\u001b[49m\n\u001b[1;32m    242\u001b[0m \u001b[43m    \u001b[49m\u001b[43mbatch_size\u001b[49m\u001b[38;5;241;43m=\u001b[39;49m\u001b[38;5;241;43m32\u001b[39;49m\u001b[43m,\u001b[49m\n\u001b[1;32m    243\u001b[0m \u001b[43m    \u001b[49m\u001b[43mdefault_model_args\u001b[49m\u001b[38;5;241;43m=\u001b[39;49m\u001b[43mdefault_model_args_example\u001b[49m\u001b[43m,\u001b[49m\n\u001b[1;32m    244\u001b[0m \u001b[43m    \u001b[49m\u001b[43mdefault_optimizer_args\u001b[49m\u001b[38;5;241;43m=\u001b[39;49m\u001b[43mdefault_optimizer_args_example\u001b[49m\u001b[43m,\u001b[49m\n\u001b[1;32m    245\u001b[0m \u001b[43m    \u001b[49m\u001b[43moptimizer_class\u001b[49m\u001b[38;5;241;43m=\u001b[39;49m\u001b[43mtorch\u001b[49m\u001b[38;5;241;43m.\u001b[39;49m\u001b[43moptim\u001b[49m\u001b[38;5;241;43m.\u001b[39;49m\u001b[43mAdamW\u001b[49m\u001b[43m,\u001b[49m\n\u001b[1;32m    246\u001b[0m \u001b[43m    \u001b[49m\u001b[43mcriterion\u001b[49m\u001b[38;5;241;43m=\u001b[39;49m\u001b[43mtorch\u001b[49m\u001b[38;5;241;43m.\u001b[39;49m\u001b[43mnn\u001b[49m\u001b[38;5;241;43m.\u001b[39;49m\u001b[43mBCELoss\u001b[49m\u001b[43m(\u001b[49m\u001b[43m)\u001b[49m\u001b[43m,\u001b[49m\n\u001b[1;32m    247\u001b[0m \u001b[43m    \u001b[49m\u001b[43mscoring_metric\u001b[49m\u001b[38;5;241;43m=\u001b[39;49m\u001b[38;5;124;43m'\u001b[39;49m\u001b[38;5;124;43mauc\u001b[39;49m\u001b[38;5;124;43m'\u001b[39;49m\u001b[43m,\u001b[49m\n\u001b[1;32m    248\u001b[0m \u001b[43m    \u001b[49m\u001b[43mrandom_state_cv\u001b[49m\u001b[38;5;241;43m=\u001b[39;49m\u001b[43mseed\u001b[49m\n\u001b[1;32m    249\u001b[0m \u001b[43m\u001b[49m\u001b[43m)\u001b[49m\n\u001b[1;32m    251\u001b[0m \u001b[38;5;28mprint\u001b[39m(\u001b[38;5;124m\"\u001b[39m\u001b[38;5;130;01m\\n\u001b[39;00m\u001b[38;5;124m--- Tuning Summary ---\u001b[39m\u001b[38;5;124m\"\u001b[39m)\n\u001b[1;32m    252\u001b[0m \u001b[38;5;28;01mif\u001b[39;00m best_params_found:\n",
      "Cell \u001b[0;32mIn[14], line 136\u001b[0m, in \u001b[0;36mhyperparameter_tuning_cv\u001b[0;34m(model_class, train_dataset, param_grid, n_splits, num_epochs, batch_size, default_model_args, default_optimizer_args, optimizer_class, criterion, scoring_metric, device, random_state_cv)\u001b[0m\n\u001b[1;32m    134\u001b[0m batch_data \u001b[38;5;241m=\u001b[39m batch_data\u001b[38;5;241m.\u001b[39mto(device)\n\u001b[1;32m    135\u001b[0m optimizer\u001b[38;5;241m.\u001b[39mzero_grad()\n\u001b[0;32m--> 136\u001b[0m out \u001b[38;5;241m=\u001b[39m \u001b[43mmodel\u001b[49m\u001b[43m(\u001b[49m\u001b[43mbatch_data\u001b[49m\u001b[43m)\u001b[49m\n\u001b[1;32m    137\u001b[0m loss \u001b[38;5;241m=\u001b[39m criterion(out\u001b[38;5;241m.\u001b[39msqueeze(), batch_data\u001b[38;5;241m.\u001b[39my\u001b[38;5;241m.\u001b[39mfloat()\u001b[38;5;241m.\u001b[39msqueeze()) \u001b[38;5;66;03m# Ensure target is float for BCE\u001b[39;00m\n\u001b[1;32m    138\u001b[0m loss\u001b[38;5;241m.\u001b[39mbackward()\n",
      "File \u001b[0;32m/home/zeus/miniconda3/envs/cloudspace/lib/python3.10/site-packages/torch/nn/modules/module.py:1751\u001b[0m, in \u001b[0;36mModule._wrapped_call_impl\u001b[0;34m(self, *args, **kwargs)\u001b[0m\n\u001b[1;32m   1749\u001b[0m     \u001b[38;5;28;01mreturn\u001b[39;00m \u001b[38;5;28mself\u001b[39m\u001b[38;5;241m.\u001b[39m_compiled_call_impl(\u001b[38;5;241m*\u001b[39margs, \u001b[38;5;241m*\u001b[39m\u001b[38;5;241m*\u001b[39mkwargs)  \u001b[38;5;66;03m# type: ignore[misc]\u001b[39;00m\n\u001b[1;32m   1750\u001b[0m \u001b[38;5;28;01melse\u001b[39;00m:\n\u001b[0;32m-> 1751\u001b[0m     \u001b[38;5;28;01mreturn\u001b[39;00m \u001b[38;5;28;43mself\u001b[39;49m\u001b[38;5;241;43m.\u001b[39;49m\u001b[43m_call_impl\u001b[49m\u001b[43m(\u001b[49m\u001b[38;5;241;43m*\u001b[39;49m\u001b[43margs\u001b[49m\u001b[43m,\u001b[49m\u001b[43m \u001b[49m\u001b[38;5;241;43m*\u001b[39;49m\u001b[38;5;241;43m*\u001b[39;49m\u001b[43mkwargs\u001b[49m\u001b[43m)\u001b[49m\n",
      "File \u001b[0;32m/home/zeus/miniconda3/envs/cloudspace/lib/python3.10/site-packages/torch/nn/modules/module.py:1762\u001b[0m, in \u001b[0;36mModule._call_impl\u001b[0;34m(self, *args, **kwargs)\u001b[0m\n\u001b[1;32m   1757\u001b[0m \u001b[38;5;66;03m# If we don't have any hooks, we want to skip the rest of the logic in\u001b[39;00m\n\u001b[1;32m   1758\u001b[0m \u001b[38;5;66;03m# this function, and just call forward.\u001b[39;00m\n\u001b[1;32m   1759\u001b[0m \u001b[38;5;28;01mif\u001b[39;00m \u001b[38;5;129;01mnot\u001b[39;00m (\u001b[38;5;28mself\u001b[39m\u001b[38;5;241m.\u001b[39m_backward_hooks \u001b[38;5;129;01mor\u001b[39;00m \u001b[38;5;28mself\u001b[39m\u001b[38;5;241m.\u001b[39m_backward_pre_hooks \u001b[38;5;129;01mor\u001b[39;00m \u001b[38;5;28mself\u001b[39m\u001b[38;5;241m.\u001b[39m_forward_hooks \u001b[38;5;129;01mor\u001b[39;00m \u001b[38;5;28mself\u001b[39m\u001b[38;5;241m.\u001b[39m_forward_pre_hooks\n\u001b[1;32m   1760\u001b[0m         \u001b[38;5;129;01mor\u001b[39;00m _global_backward_pre_hooks \u001b[38;5;129;01mor\u001b[39;00m _global_backward_hooks\n\u001b[1;32m   1761\u001b[0m         \u001b[38;5;129;01mor\u001b[39;00m _global_forward_hooks \u001b[38;5;129;01mor\u001b[39;00m _global_forward_pre_hooks):\n\u001b[0;32m-> 1762\u001b[0m     \u001b[38;5;28;01mreturn\u001b[39;00m \u001b[43mforward_call\u001b[49m\u001b[43m(\u001b[49m\u001b[38;5;241;43m*\u001b[39;49m\u001b[43margs\u001b[49m\u001b[43m,\u001b[49m\u001b[43m \u001b[49m\u001b[38;5;241;43m*\u001b[39;49m\u001b[38;5;241;43m*\u001b[39;49m\u001b[43mkwargs\u001b[49m\u001b[43m)\u001b[49m\n\u001b[1;32m   1764\u001b[0m result \u001b[38;5;241m=\u001b[39m \u001b[38;5;28;01mNone\u001b[39;00m\n\u001b[1;32m   1765\u001b[0m called_always_called_hooks \u001b[38;5;241m=\u001b[39m \u001b[38;5;28mset\u001b[39m()\n",
      "Cell \u001b[0;32mIn[10], line 35\u001b[0m, in \u001b[0;36mLorentzNet.forward\u001b[0;34m(self, data)\u001b[0m\n\u001b[1;32m     30\u001b[0m \u001b[38;5;28;01mdef\u001b[39;00m\u001b[38;5;250m \u001b[39m\u001b[38;5;21mforward\u001b[39m(\u001b[38;5;28mself\u001b[39m, data):\n\u001b[1;32m     31\u001b[0m     \u001b[38;5;66;03m# data.x :4-vectors [N, 4]\u001b[39;00m\n\u001b[1;32m     32\u001b[0m     \u001b[38;5;66;03m# data.h: initial scalar features [N, initial_scalar_feature_dim]\u001b[39;00m\n\u001b[1;32m     33\u001b[0m     x_coords, h_scalars, edge_index, edge_attr, batch \u001b[38;5;241m=\u001b[39m data\u001b[38;5;241m.\u001b[39mx_coords, data\u001b[38;5;241m.\u001b[39mh_scalars, data\u001b[38;5;241m.\u001b[39medge_index, data\u001b[38;5;241m.\u001b[39medge_attr, data\u001b[38;5;241m.\u001b[39mbatch\n\u001b[0;32m---> 35\u001b[0m     h_scalars \u001b[38;5;241m=\u001b[39m F\u001b[38;5;241m.\u001b[39mrelu(\u001b[38;5;28;43mself\u001b[39;49m\u001b[38;5;241;43m.\u001b[39;49m\u001b[43mscalar_embedding\u001b[49m\u001b[43m(\u001b[49m\u001b[43mh_scalars\u001b[49m\u001b[43m)\u001b[49m)\n\u001b[1;32m     37\u001b[0m     \u001b[38;5;28;01mfor\u001b[39;00m lgeb_layer \u001b[38;5;129;01min\u001b[39;00m \u001b[38;5;28mself\u001b[39m\u001b[38;5;241m.\u001b[39mlgeb_layers:\n\u001b[1;32m     38\u001b[0m         x_coords, h_scalars \u001b[38;5;241m=\u001b[39m lgeb_layer(x_coords, h_scalars, edge_index, edge_attr)\n",
      "File \u001b[0;32m/home/zeus/miniconda3/envs/cloudspace/lib/python3.10/site-packages/torch/nn/modules/module.py:1751\u001b[0m, in \u001b[0;36mModule._wrapped_call_impl\u001b[0;34m(self, *args, **kwargs)\u001b[0m\n\u001b[1;32m   1749\u001b[0m     \u001b[38;5;28;01mreturn\u001b[39;00m \u001b[38;5;28mself\u001b[39m\u001b[38;5;241m.\u001b[39m_compiled_call_impl(\u001b[38;5;241m*\u001b[39margs, \u001b[38;5;241m*\u001b[39m\u001b[38;5;241m*\u001b[39mkwargs)  \u001b[38;5;66;03m# type: ignore[misc]\u001b[39;00m\n\u001b[1;32m   1750\u001b[0m \u001b[38;5;28;01melse\u001b[39;00m:\n\u001b[0;32m-> 1751\u001b[0m     \u001b[38;5;28;01mreturn\u001b[39;00m \u001b[38;5;28;43mself\u001b[39;49m\u001b[38;5;241;43m.\u001b[39;49m\u001b[43m_call_impl\u001b[49m\u001b[43m(\u001b[49m\u001b[38;5;241;43m*\u001b[39;49m\u001b[43margs\u001b[49m\u001b[43m,\u001b[49m\u001b[43m \u001b[49m\u001b[38;5;241;43m*\u001b[39;49m\u001b[38;5;241;43m*\u001b[39;49m\u001b[43mkwargs\u001b[49m\u001b[43m)\u001b[49m\n",
      "File \u001b[0;32m/home/zeus/miniconda3/envs/cloudspace/lib/python3.10/site-packages/torch/nn/modules/module.py:1762\u001b[0m, in \u001b[0;36mModule._call_impl\u001b[0;34m(self, *args, **kwargs)\u001b[0m\n\u001b[1;32m   1757\u001b[0m \u001b[38;5;66;03m# If we don't have any hooks, we want to skip the rest of the logic in\u001b[39;00m\n\u001b[1;32m   1758\u001b[0m \u001b[38;5;66;03m# this function, and just call forward.\u001b[39;00m\n\u001b[1;32m   1759\u001b[0m \u001b[38;5;28;01mif\u001b[39;00m \u001b[38;5;129;01mnot\u001b[39;00m (\u001b[38;5;28mself\u001b[39m\u001b[38;5;241m.\u001b[39m_backward_hooks \u001b[38;5;129;01mor\u001b[39;00m \u001b[38;5;28mself\u001b[39m\u001b[38;5;241m.\u001b[39m_backward_pre_hooks \u001b[38;5;129;01mor\u001b[39;00m \u001b[38;5;28mself\u001b[39m\u001b[38;5;241m.\u001b[39m_forward_hooks \u001b[38;5;129;01mor\u001b[39;00m \u001b[38;5;28mself\u001b[39m\u001b[38;5;241m.\u001b[39m_forward_pre_hooks\n\u001b[1;32m   1760\u001b[0m         \u001b[38;5;129;01mor\u001b[39;00m _global_backward_pre_hooks \u001b[38;5;129;01mor\u001b[39;00m _global_backward_hooks\n\u001b[1;32m   1761\u001b[0m         \u001b[38;5;129;01mor\u001b[39;00m _global_forward_hooks \u001b[38;5;129;01mor\u001b[39;00m _global_forward_pre_hooks):\n\u001b[0;32m-> 1762\u001b[0m     \u001b[38;5;28;01mreturn\u001b[39;00m \u001b[43mforward_call\u001b[49m\u001b[43m(\u001b[49m\u001b[38;5;241;43m*\u001b[39;49m\u001b[43margs\u001b[49m\u001b[43m,\u001b[49m\u001b[43m \u001b[49m\u001b[38;5;241;43m*\u001b[39;49m\u001b[38;5;241;43m*\u001b[39;49m\u001b[43mkwargs\u001b[49m\u001b[43m)\u001b[49m\n\u001b[1;32m   1764\u001b[0m result \u001b[38;5;241m=\u001b[39m \u001b[38;5;28;01mNone\u001b[39;00m\n\u001b[1;32m   1765\u001b[0m called_always_called_hooks \u001b[38;5;241m=\u001b[39m \u001b[38;5;28mset\u001b[39m()\n",
      "File \u001b[0;32m/home/zeus/miniconda3/envs/cloudspace/lib/python3.10/site-packages/torch/nn/modules/linear.py:125\u001b[0m, in \u001b[0;36mLinear.forward\u001b[0;34m(self, input)\u001b[0m\n\u001b[1;32m    124\u001b[0m \u001b[38;5;28;01mdef\u001b[39;00m\u001b[38;5;250m \u001b[39m\u001b[38;5;21mforward\u001b[39m(\u001b[38;5;28mself\u001b[39m, \u001b[38;5;28minput\u001b[39m: Tensor) \u001b[38;5;241m-\u001b[39m\u001b[38;5;241m>\u001b[39m Tensor:\n\u001b[0;32m--> 125\u001b[0m     \u001b[38;5;28;01mreturn\u001b[39;00m \u001b[43mF\u001b[49m\u001b[38;5;241;43m.\u001b[39;49m\u001b[43mlinear\u001b[49m\u001b[43m(\u001b[49m\u001b[38;5;28;43minput\u001b[39;49m\u001b[43m,\u001b[49m\u001b[43m \u001b[49m\u001b[38;5;28;43mself\u001b[39;49m\u001b[38;5;241;43m.\u001b[39;49m\u001b[43mweight\u001b[49m\u001b[43m,\u001b[49m\u001b[43m \u001b[49m\u001b[38;5;28;43mself\u001b[39;49m\u001b[38;5;241;43m.\u001b[39;49m\u001b[43mbias\u001b[49m\u001b[43m)\u001b[49m\n",
      "\u001b[0;31mRuntimeError\u001b[0m: mat1 and mat2 shapes cannot be multiplied (142x3 and 4x32)"
     ]
    }
   ],
   "source": [
    "import torch\n",
    "import torch.nn.functional as F\n",
    "from torch_geometric.data import Data, Batch\n",
    "from torch_geometric.loader import DataLoader\n",
    "from sklearn.model_selection import ParameterGrid, KFold\n",
    "from sklearn.metrics import roc_auc_score, accuracy_score, f1_score\n",
    "import numpy as np\n",
    "from tqdm import tqdm\n",
    "import traceback\n",
    "import copy\n",
    "\n",
    "\n",
    "def hyperparameter_tuning_cv(\n",
    "    model_class,\n",
    "    train_dataset: list[Data],\n",
    "    param_grid: dict,\n",
    "    n_splits: int = 5,\n",
    "    num_epochs: int = 50,\n",
    "    batch_size: int = 32,\n",
    "    default_model_args: dict = None, # Base arguments for model instantiation\n",
    "    default_optimizer_args: dict = None, # Base arguments for optimizer\n",
    "    optimizer_class=torch.optim.AdamW, # Default optimizer\n",
    "    criterion=torch.nn.BCEWithLogitsLoss(), # Default loss\n",
    "    scoring_metric: str = 'auc', # 'auc', 'accuracy', 'f1', etc.\n",
    "    device: torch.device = None,\n",
    "    random_state_cv: int = 42 # For KFold reproducibility\n",
    "):\n",
    "    \"\"\"\n",
    "    Performs hyperparameter tuning using K-fold cross-validation, similar to GridSearchCV.\n",
    "\n",
    "    Args:\n",
    "        model_class: The class of the GNN model to be tuned (e.g., GCNClassifier).\n",
    "        train_dataset (list[Data]): The full training dataset (will be split into train/val by KFold).\n",
    "        param_grid (dict): Dictionary with parameters names (str) as keys and lists of\n",
    "                           parameter settings to try as values.\n",
    "        n_splits (int): Number of folds for K-fold cross-validation.\n",
    "        num_epochs (int): Number of epochs to train for each hyperparameter combination.\n",
    "        batch_size (int): Batch size for training and validation.\n",
    "        default_model_args (dict, optional): Default arguments for instantiating the model.\n",
    "                                            Parameters from param_grid will override these.\n",
    "        default_optimizer_args (dict, optional): Default arguments for instantiating the optimizer.\n",
    "                                                Parameters from param_grid can override these.\n",
    "        optimizer_class: The PyTorch optimizer class to use.\n",
    "        criterion: The loss function.\n",
    "        scoring_metric (str): The metric to use for evaluating and selecting the best parameters\n",
    "                              ('auc', 'accuracy', 'f1').\n",
    "        device (torch.device, optional): Device to train on. If None, uses CUDA if available.\n",
    "        random_state_cv (int): Random state for KFold for reproducible splits.\n",
    "\n",
    "    Returns:\n",
    "        tuple: (best_params, best_score, all_results)\n",
    "            - best_params (dict): The hyperparameter combination that yielded the best score.\n",
    "            - best_score (float): The best average score achieved on the validation sets.\n",
    "            - all_results (list[dict]): A list of dictionaries, each containing the parameters\n",
    "                                        tried and their corresponding validation scores for each fold.\n",
    "    \"\"\"\n",
    "    if device is None:\n",
    "        device = torch.device(\"cuda\" if torch.cuda.is_available() else \"cpu\")\n",
    "    print(f\"Starting hyperparameter tuning on device: {device}\")\n",
    "    print(f\"Scoring metric: {scoring_metric.upper()}\")\n",
    "\n",
    "    if default_model_args is None: default_model_args = {}\n",
    "    if default_optimizer_args is None: default_optimizer_args = {}\n",
    "\n",
    "    grid = ParameterGrid(param_grid)\n",
    "    kf = KFold(n_splits=n_splits, shuffle=True, random_state=random_state_cv)\n",
    "\n",
    "    best_score = -float('inf') if scoring_metric in ['auc', 'accuracy', 'f1'] else float('inf')\n",
    "    best_params = None\n",
    "    all_results = []\n",
    "\n",
    "    num_combinations = len(list(grid))\n",
    "    print(f\"Total hyperparameter combinations to try: {num_combinations}\")\n",
    "\n",
    "    for i, params in enumerate(grid):\n",
    "        print(f\"\\n--- Combination {i+1}/{num_combinations} ---\")\n",
    "        print(f\"Parameters: {params}\")\n",
    "\n",
    "        current_model_args = default_model_args.copy()\n",
    "        current_optimizer_args = default_optimizer_args.copy()\n",
    "\n",
    "        # Separate model and optimizer params from the grid\n",
    "        model_specific_params = {}\n",
    "        optimizer_specific_params = {}\n",
    "        other_params = {} \n",
    "\n",
    "        \n",
    "        for key, value in params.items():\n",
    "            if key in default_model_args or any(key.startswith(p) for p in ['hidden_dim', 'num_graph_features', 'dropout', 'num_lgeb_layers']):\n",
    "                model_specific_params[key] = value\n",
    "            elif key in default_optimizer_args or any(key.startswith(p) for p in ['lr', 'learning_rate', 'weight_decay']):\n",
    "                optimizer_specific_params[key] = value\n",
    "            else:\n",
    "                other_params[key] = value # e.g., if tuning batch_size itself\n",
    "\n",
    "        current_model_args.update(model_specific_params)\n",
    "        current_optimizer_args.update(optimizer_specific_params)\n",
    "\n",
    "        # Allow batch_size to be tuned if present in 'other_params'\n",
    "        current_batch_size = other_params.get('batch_size', batch_size)\n",
    "\n",
    "        fold_scores = []\n",
    "        for fold, (train_idx, val_idx) in enumerate(kf.split(train_dataset)):\n",
    "            print(f\"  Fold {fold+1}/{n_splits}\")\n",
    "\n",
    "            # --- Prepare data for this fold ---\n",
    "            # Ensure train_dataset is a list or sliceable\n",
    "            try:\n",
    "                 fold_train_dataset = [train_dataset[i] for i in train_idx]\n",
    "                 fold_val_dataset = [train_dataset[i] for i in val_idx]\n",
    "            except TypeError:\n",
    "                 print(\"Error: train_dataset must be a list of PyG Data objects for KFold indexing.\")\n",
    "                 return None, float('-inf'), []\n",
    "\n",
    "\n",
    "            train_loader = DataLoader(fold_train_dataset, batch_size=current_batch_size, shuffle=True)\n",
    "            val_loader = DataLoader(fold_val_dataset, batch_size=current_batch_size, shuffle=False)\n",
    "\n",
    "            # --- Instantiate Model and Optimizer ---\n",
    "            try:\n",
    "                model = model_class(**current_model_args).to(device)\n",
    "                optimizer = optimizer_class(model.parameters(), **current_optimizer_args)\n",
    "            except Exception as e:\n",
    "                print(f\"    Error instantiating model/optimizer with params {current_model_args}, {current_optimizer_args}: {e}\")\n",
    "                traceback.print_exc()\n",
    "                fold_scores.append(np.nan)\n",
    "                continue\n",
    "\n",
    "            # --- Training Loop for this fold ---\n",
    "            # for epoch in range(num_epochs):\n",
    "            #     model.train()\n",
    "            #     epoch_loss = 0\n",
    "            #     for batch_data in train_loader: # Assuming train_loader yields PyG Batch objects\n",
    "            #         batch_data = batch_data.to(device)\n",
    "            #         optimizer.zero_grad()\n",
    "            #         out = model(batch_data)\n",
    "            #         loss = criterion(out.squeeze(), batch_data.y.float().squeeze()) # Ensure target is float for BCE\n",
    "            #         loss.backward()\n",
    "            #         optimizer.step()\n",
    "            #         epoch_loss += loss.item()\n",
    "            train_loss, train_acc = train_epoch(model, train_loader, optimizer, criterion, device, epoch, log_interval_train)\n",
    "            val_loss, val_acc, val_auc, val_report = evaluate_model(model, val_loader, criterion, device, epoch)\n",
    "\n",
    "\n",
    "            # --- Evaluation on Validation Set for this fold ---\n",
    "            model.eval()\n",
    "            all_preds = []\n",
    "            all_labels = []\n",
    "            val_loss_sum = 0\n",
    "            with torch.no_grad():\n",
    "                for batch_data in val_loader:\n",
    "                    batch_data = batch_data.to(device)\n",
    "                    out = model(batch_data)\n",
    "                    val_loss_sum += criterion(out.squeeze(), batch_data.y.float().squeeze()).item()\n",
    "                    # Store predictions and labels for metrics\n",
    "                    all_preds.extend(out.squeeze().cpu().tolist()) # Get probabilities\n",
    "                    all_labels.extend(batch_data.y.cpu().tolist())\n",
    "\n",
    "            avg_val_loss = val_loss_sum / len(val_loader)\n",
    "            all_preds = np.array(all_preds)\n",
    "            all_labels = np.array(all_labels)\n",
    "\n",
    "            # Calculate scoring metric\n",
    "            score = np.nan\n",
    "            try:\n",
    "                if scoring_metric == 'auc':\n",
    "                    score = roc_auc_score(all_labels, all_preds)\n",
    "                elif scoring_metric == 'accuracy':\n",
    "                    score = accuracy_score(all_labels, (all_preds >= 0.5).astype(int))\n",
    "                elif scoring_metric == 'f1':\n",
    "                    score = f1_score(all_labels, (all_preds >= 0.5).astype(int), zero_division=0)\n",
    "                # Add more metrics if needed\n",
    "                else:\n",
    "                    print(f\"    Warning: Unknown scoring metric '{scoring_metric}'. Using AUC.\")\n",
    "                    score = roc_auc_score(all_labels, all_preds)\n",
    "                fold_scores.append(score)\n",
    "                print(f\"    Fold {fold+1} Val Loss: {avg_val_loss:.4f}, Val {scoring_metric.upper()}: {score:.4f}\")\n",
    "            except ValueError as e:\n",
    "                print(f\"    Warning: Could not calculate {scoring_metric} for fold {fold+1}: {e}\")\n",
    "                fold_scores.append(np.nan)\n",
    "\n",
    "\n",
    "        # --- Average score over folds for this parameter combination ---\n",
    "        # Remove NaNs before averaging if any fold failed\n",
    "        valid_fold_scores = [s for s in fold_scores if not np.isnan(s)]\n",
    "        if valid_fold_scores:\n",
    "            mean_score = np.mean(valid_fold_scores)\n",
    "            print(f\"  Average Validation {scoring_metric.upper()} for params: {mean_score:.4f}\")\n",
    "        else:\n",
    "            mean_score = -float('inf') if scoring_metric in ['auc', 'accuracy', 'f1'] else float('inf')\n",
    "            print(f\"  No valid scores obtained for this parameter combination across folds.\")\n",
    "\n",
    "\n",
    "        all_results.append({\n",
    "            'params': params,\n",
    "            'mean_validation_score': mean_score,\n",
    "            'individual_fold_scores': fold_scores\n",
    "        })\n",
    "\n",
    "        # Update best score and params\n",
    "        if (scoring_metric in ['auc', 'accuracy', 'f1'] and mean_score > best_score) or \\\n",
    "           (scoring_metric not in ['auc', 'accuracy', 'f1'] and mean_score < best_score): # For loss-like metrics\n",
    "            best_score = mean_score\n",
    "            best_params = params\n",
    "            print(f\"  *** New Best Score: {best_score:.4f} with params: {best_params} ***\")\n",
    "\n",
    "    print(\"\\n--- Hyperparameter Tuning Complete ---\")\n",
    "    if best_params:\n",
    "        print(f\"Best parameters found: {best_params}\")\n",
    "        print(f\"Best average validation {scoring_metric.upper()}: {best_score:.4f}\")\n",
    "    else:\n",
    "        print(\"No best parameters found (all combinations might have failed or produced NaN scores).\")\n",
    "\n",
    "    return best_params, best_score, all_results\n",
    "\n",
    "\n",
    "# --- Example Usage (Illustrative - adapt to your actual model and data) ---\n",
    "if __name__ == '__main__':\n",
    "    param_grid = {\n",
    "        'hidden_dim': [32, 64],\n",
    "        'lr': [0.001, 0.0005],\n",
    "        'dropout': [0.3, 0.5],\n",
    "        'batch_size': [32, 64],\n",
    "        'num_graph_features': [0, 2],\n",
    "        'num_lgeb_layers':[3, 6]\n",
    "        \n",
    "    }\n",
    "    # 4. Define default arguments for your model and optimizer\n",
    "    # These are args that are NOT being tuned but are needed for instantiation.\n",
    "    default_model_args_example = {\n",
    "        'scalar_feature_dim': 4, \n",
    "        'edge_feature_dim': 1\n",
    "    }\n",
    "    default_optimizer_args_example = {\n",
    "        'weight_decay': 1e-5\n",
    "    }\n",
    "\n",
    "    # 5. Run the tuning\n",
    "    best_params_found, best_val_score, all_run_results = hyperparameter_tuning_cv(\n",
    "        model_class=LorentzNet,\n",
    "        train_dataset=train_dataset,\n",
    "        param_grid=param_grid,\n",
    "        n_splits=3,\n",
    "        num_epochs=10,\n",
    "        batch_size=32,\n",
    "        default_model_args=default_model_args_example,\n",
    "        default_optimizer_args=default_optimizer_args_example,\n",
    "        optimizer_class=torch.optim.AdamW,\n",
    "        criterion=torch.nn.BCELoss(),\n",
    "        scoring_metric='auc',\n",
    "        random_state_cv=seed\n",
    "    )\n",
    "\n",
    "    print(\"\\n--- Tuning Summary ---\")\n",
    "    if best_params_found:\n",
    "        print(f\"Best Parameters: {best_params_found}\")\n",
    "        print(f\"Best Validation AUC: {best_val_score:.4f}\")\n",
    "\n",
    "    # print(\"\\nAll Results:\")\n",
    "    # for res in all_run_results:\n",
    "    #     print(f\"  Params: {res['params']}, Mean Score: {res['mean_validation_score']:.4f}, Fold Scores: {res['individual_fold_scores']}\")"
   ]
  },
  {
   "cell_type": "code",
   "execution_count": null,
   "id": "79d5f09f-c61b-4792-91cb-8bccc0918f0f",
   "metadata": {},
   "outputs": [],
   "source": []
  }
 ],
 "metadata": {
  "kernelspec": {
   "display_name": "Python 3",
   "language": "python",
   "name": "python3"
  },
  "language_info": {
   "codemirror_mode": {
    "name": "ipython",
    "version": 3
   },
   "file_extension": ".py",
   "mimetype": "text/x-python",
   "name": "python",
   "nbconvert_exporter": "python",
   "pygments_lexer": "ipython3",
   "version": "3.10.10"
  }
 },
 "nbformat": 4,
 "nbformat_minor": 5
}
