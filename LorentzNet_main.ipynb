{
 "cells": [
  {
   "cell_type": "code",
   "execution_count": 3,
   "id": "fc25c852-5fcc-4670-9909-47a3219f337a",
   "metadata": {},
   "outputs": [
    {
     "name": "stdout",
     "output_type": "stream",
     "text": [
      "Using device: cpu\n",
      "System CUDA Status:\n",
      "- PyTorch version: 2.7.0+cu128\n",
      "- CUDA Version: 12.8\n",
      "- CUDA available: False\n",
      "\n",
      "PyTorch Geometric Status:\n",
      "- PyG version: 2.6.1\n",
      "- torch_scatter: Installed\n",
      "- torch_sparse: Installed\n",
      "- torch_cluster: Installed\n",
      "- torch_spline_conv: Installed\n"
     ]
    }
   ],
   "source": [
    "import numpy as np\n",
    "import torch\n",
    "import matplotlib.pyplot as plt\n",
    "import torch_geometric\n",
    "from torch_geometric.loader import DataLoader\n",
    "import pandas as pd\n",
    "import random\n",
    "import os\n",
    "from torch_geometric.data import Data\n",
    "import networkx as nx\n",
    "from torch_geometric.utils import to_networkx\n",
    "import torch.nn.functional as F\n",
    "from torch_geometric.nn import NNConv, global_mean_pool\n",
    "from tqdm import tqdm\n",
    "import torch.optim as optim\n",
    "import json\n",
    "import pprint \n",
    "import os\n",
    "\n",
    "from helper_function_module import init_setup\n",
    "seed = 71620\n",
    "BATCH_SIZE = 70\n",
    "device = init_setup(batch_size = BATCH_SIZE, \n",
    "           use_cuda = True, \n",
    "           random_seed = seed)"
   ]
  },
  {
   "cell_type": "code",
   "execution_count": 6,
   "id": "e163edbf-355d-44ab-91d9-e3ee6a59f5e4",
   "metadata": {},
   "outputs": [
    {
     "name": "stdout",
     "output_type": "stream",
     "text": [
      "Signal Event: 1658\n",
      "Example:\n",
      "{'edge_index': [[0, 1, 0, 2, 1, 2], [1, 0, 2, 0, 2, 1]],\n",
      " 'edges': [2.828688109255066,\n",
      "           2.828688109255066,\n",
      "           2.040679106111493,\n",
      "           2.040679106111493,\n",
      "           1.480182781978507,\n",
      "           1.480182781978507],\n",
      " 'event_label': 1,\n",
      " 'eventno': 35432,\n",
      " 'h_scalars': [[0.0, 0.0, 0.0], [1.0, 1.0, 0.0], [1.0, 1.0, 0.0]],\n",
      " 'invMass_2leadingbj': 39.53000609903823,\n",
      " 'invMass_2leadingbj1p': 82.4947230375374,\n",
      " 'jet_btag_label': [None, 1.0, 1.0],\n",
      " 'leading_isophoton_pT': 24.3782,\n",
      " 'node_labels': [0, 1, 1],\n",
      " 'nodes': [[-0.419762, 0.568684, 24.3782, 26.5576],\n",
      "           [-0.849177, -2.22722, 34.7949, 48.1125],\n",
      "           [-0.77936, 2.57743, 24.6674, 32.5459]],\n",
      " 'num_btag_jets': 2,\n",
      " 'num_isophotons': 1,\n",
      " 'num_nodes': 3,\n",
      " 'x_coords': [[26.5576, 20.5413, 13.1282, -10.5362],\n",
      "              [48.1125, -21.235, -27.5638, -33.2284],\n",
      "              [32.5459, -20.8449, 13.1898, -21.231]]}\n",
      "~~~~~~~~~~~~~~~~~~~~~~~~~~~~~~~~~~~~~~~~~~~~~~~~~~~~~~~~~~~~~~~~~~~~~~~~~~~~~~~~~~~~~~~~~~~~~~~~~~~~\n",
      "Background Event: 1939\n",
      "Example:\n",
      "{'edge_index': [[0, 1, 0, 2, 1, 2], [1, 0, 2, 0, 2, 1]],\n",
      " 'edges': [2.456078392438908,\n",
      "           2.456078392438908,\n",
      "           2.0684445682659716,\n",
      "           2.0684445682659716,\n",
      "           2.6503417374134983,\n",
      "           2.6503417374134983],\n",
      " 'event_label': 0,\n",
      " 'eventno': 315925,\n",
      " 'h_scalars': [[0.0, 0.0, 0.0],\n",
      "               [1.0, 1.0, 0.0],\n",
      "               [1.0, 1.0, 0.021510462572222413]],\n",
      " 'invMass_2leadingbj': 102.7763610042212,\n",
      " 'invMass_2leadingbj1p': 186.73816372158637,\n",
      " 'jet_btag_label': [None, 1.0, 1.0],\n",
      " 'leading_isophoton_pT': 61.4253,\n",
      " 'node_labels': [0, 1, 1],\n",
      " 'nodes': [[-0.903983, 2.53682, 61.4253, 88.2796],\n",
      "           [-0.525592, -1.31961, 71.9117, 82.0752],\n",
      "           [0.575434, 1.09121, 30.4173, 35.5938]],\n",
      " 'num_btag_jets': 2,\n",
      " 'num_isophotons': 1,\n",
      " 'num_nodes': 3,\n",
      " 'x_coords': [[88.2796, -50.5304, 34.925, -63.4052],\n",
      "              [82.0752, 17.8741, -69.655, -39.5606],\n",
      "              [35.5938, 14.0349, 26.9858, 18.4853]]}\n"
     ]
    }
   ],
   "source": [
    "BASE_JSON_DATA_DIR = \"/teamspace/studios/this_studio\"\n",
    "signal_path = os.path.join(BASE_JSON_DATA_DIR, \"onlyAny2bj_onlyAny1p/ppzaxbba_ax45_200k_minpt20_15jets_etafiltered_corrected_onlyAny2bj_onlyAny1p_LorentzNet_data.json\")\n",
    "background_path = os.path.join(BASE_JSON_DATA_DIR, \"onlyAny2bj_onlyAny1p/ppbba_500k_minpt20_15jets_etafiltered_corrected_onlyAny2bj_onlyAny1p_LorentzNet_data.json\")\n",
    "\n",
    "with open(signal_path, 'r') as file:\n",
    "    signal = json.load(file)\n",
    "\n",
    "with open(background_path, 'r') as file:\n",
    "    background = json.load(file)\n",
    "\n",
    "pp = pprint.PrettyPrinter(indent=1)\n",
    "\n",
    "print(f\"Signal Event: {len(signal)}\")\n",
    "print(\"Example:\")\n",
    "pp.pprint(signal[np.random.randint(0, len(signal))])\n",
    "print(100*'~')\n",
    "\n",
    "print(f\"Background Event: {len(background)}\")\n",
    "print(\"Example:\")\n",
    "pp.pprint(background[np.random.randint(0, len(background))])"
   ]
  },
  {
   "cell_type": "markdown",
   "id": "c6b0ac41-b406-4aa2-869c-0431b0de5ed4",
   "metadata": {},
   "source": [
    "# Converting Each Event into a PyG Graph Object"
   ]
  },
  {
   "cell_type": "code",
   "execution_count": 14,
   "id": "3416b72a-f114-4c89-899f-703f83e85638",
   "metadata": {},
   "outputs": [],
   "source": [
    "def convert_to_pyg_graph(graph, normalize_features):\n",
    "    \"\"\"\n",
    "    Convert the graph dictionary into a PyTorch Geometric Data object\n",
    "    and add graph-level features like jet_multiplicity, inv_mass, and the event label.\n",
    "\n",
    "    Parameters:\n",
    "    -----------\n",
    "    graph : dict\n",
    "        Dictionary containing 'eventno', 'nodes', 'edges', and 'edge_index', 'jet_multiplicity', 'inv_mass', 'node_labels',\n",
    "        'jet_btag_labels', 'event_label' for a single event.\n",
    "\n",
    "    Returns:\n",
    "    --------\n",
    "    data : Data\n",
    "        PyTorch Geometric Data object containing the graph and additional features.\n",
    "    \"\"\"\n",
    "    # Extract node features, edge features, and edge index from the graph dictionary\n",
    "    event_num = torch.tensor(graph['eventno'], dtype=torch.long)\n",
    "    # edge_index = torch.tensor(graph['edge_index'], dtype=torch.long)  # Shape: (2, num_edges)\n",
    "    edge_index_raw = graph['edge_index']\n",
    "    if not edge_index_raw or len(edge_index_raw) == 0:  # Empty edge_index\n",
    "        edge_index = torch.empty(2, 0, dtype=torch.long)  # Shape: (2, 0)\n",
    "        edge_features = torch.empty(0, 1, dtype=torch.float)  # Shape: (0, 1)\n",
    "    else:\n",
    "        edge_index = torch.tensor(edge_index_raw, dtype=torch.long)\n",
    "        # Ensure edge_index is 2D with shape [2, num_edges]\n",
    "        if edge_index.dim() == 1:  # If 1D, assume it's a flat list like [0, 1]\n",
    "            edge_index = edge_index.view(2, -1)  # Reshape to [2, num_edges]\n",
    "        elif edge_index.dim() != 2 or edge_index.size(0) != 2:  # Invalid shape\n",
    "            raise ValueError(f\"Invalid edge_index shape: {edge_index.shape}. Expected [2, num_edges].\")\n",
    "    \n",
    "    \n",
    "    edge_features = torch.tensor(graph['edges'], dtype=torch.float).view(-1,1)  # Shape: (num_edges, 1)\n",
    "    \n",
    "    node_labels = torch.tensor(graph['node_labels'], dtype=torch.long).view(-1,1)\n",
    "\n",
    "    jet_btag_raw = graph.get('jet_btag_label', [])\n",
    "\n",
    "    # Ensure jet_btag_raw has the same length as the number of nodes\n",
    "    if len(jet_btag_raw) != graph['num_nodes']:\n",
    "        print(f\"Warning: Event {graph.get('eventno', 'N/A')} - Mismatch between num_nodes ({num_nodes}) and length of jet_btag_label ({len(jet_btag_raw)}). Using NaNs for b-tags.\")\n",
    "        jet_btag_labels_tensor = torch.full((num_nodes, 1), float('nan'), dtype=torch.float)\n",
    "    else:\n",
    "        btag_labels_float = []\n",
    "        for btag_val in jet_btag_raw:\n",
    "            if btag_val is None or (isinstance(btag_val, str) and btag_val.lower() == 'nan'): # Handle 'nan' string if present\n",
    "                btag_labels_float.append(float('nan'))\n",
    "            else:\n",
    "                try:\n",
    "                    btag_labels_float.append(float(btag_val))\n",
    "                except (ValueError, TypeError):\n",
    "                    print(f\"Warning: Invalid b-tag value '{btag_val}' for event {graph.get('eventno', 'N/A')}. Using NaN.\")\n",
    "                    btag_labels_float.append(float('nan'))\n",
    "\n",
    "    if not btag_labels_float:\n",
    "        jet_btag_labels_tensor = torch.empty((0, 1), dtype=torch.float) if num_nodes == 0 else torch.full((num_nodes, 1), float('nan'), dtype=torch.float)\n",
    "    else:\n",
    "        jet_btag_labels_tensor = torch.tensor(btag_labels_float, dtype=torch.float).view(-1, 1)\n",
    "\n",
    "    node_features = torch.tensor(graph['nodes'], dtype=torch.float)\n",
    "    h_scalars = torch.tensor(graph['h_scalars'], dtype = torch.float)\n",
    "    x_coord = torch.tensor(graph['x_coords'], dtype = torch.float)\n",
    "\n",
    "    if (normalize_features) & (node_features.size(0) != 0):\n",
    "        node_features = (node_features - node_features.mean(dim=0)) / node_features.std(dim=0) #Normalised Features\n",
    "    \n",
    "    node_features_with_btaglabel = torch.cat((node_features[:, :2], jet_btag_labels_tensor), dim = 1)\n",
    "\n",
    "    \n",
    "            \n",
    "    # Convert graph-level features (jet_multiplicity, inv_mass) and label to tensor\n",
    "    graph_level_features = torch.tensor([graph['num_nodes'],\n",
    "                                         graph['invMass_2leadingbj1p'],\n",
    "                                         graph['invMass_2leadingbj'],\n",
    "                                         graph['num_isophotons'],\n",
    "                                         graph['num_btag_jets'],\n",
    "                                         graph['leading_isophoton_pT']\n",
    "                                        ], dtype=torch.float).view(1, -1)\n",
    "    label_tensor = torch.tensor(graph['event_label'], dtype=torch.long)  # Event label (0 or 1)\n",
    "\n",
    "    # Create the PyTorch Geometric Data object\n",
    "    data = Data(\n",
    "        x=node_features_with_btaglabel,               # Node features (3, num_features)\n",
    "        edge_index=edge_index,         # Edge index (2, num_edges)\n",
    "        edge_attr=edge_features,       # Edge features (num_edges, 1)\n",
    "        y=label_tensor                 # Event label (0 or 1)\n",
    "    )\n",
    "\n",
    "    # Add custom graph-level features\n",
    "    data.eventno = event_num\n",
    "    data.number_of_nodes = graph_level_features[0, 0]\n",
    "    data.inv_mass_2j1p = graph_level_features[0, 1]\n",
    "    data.inv_mass_2j = graph_level_features[0, 2]\n",
    "    data.num_isophotons = graph_level_features[0, 3]\n",
    "    data.num_btag_jets = graph_level_features[0, 4]\n",
    "    data.node_label = node_labels \n",
    "    data.jet_btag_label = jet_btag_labels_tensor\n",
    "    data.isophoton_pT = graph_level_features[0, 5]\n",
    "    data.h_scalars = h_scalars\n",
    "    data.x_coords = x_coord\n",
    "\n",
    "    return data\n",
    "\n",
    "def convert_all_to_pyg_graphs(graphs,*, normalize_features = False):\n",
    "    \"\"\"\n",
    "    Converts a list of event graphs to PyTorch Geometric-compatible Data objects.\n",
    "    Also adds the graph-level features 'jet_multiplicity', 'inv_mass' and event labels.\n",
    "\n",
    "    Parameters:\n",
    "    -----------\n",
    "    graphs : list of dicts\n",
    "        List containing dictionaries with node, edge information for each event.\n",
    "    dataframe : pd.DataFrame\n",
    "        DataFrame containing the event-level features like 'jetmultiplicity', 'invmass_4j1p', and 'label'.\n",
    "\n",
    "    Returns:\n",
    "    --------\n",
    "    pyg_graphs : list of Data\n",
    "        List of PyTorch Geometric Data objects with added graph-level features and labels.\n",
    "    \"\"\"\n",
    "    pyg_graphs = []\n",
    "    print('Initializing the process...')\n",
    "    with tqdm(total = len(graphs), desc = 'Progress', leave = True) as pbar:    \n",
    "        for i, graph in enumerate(graphs):\n",
    "            data = convert_to_pyg_graph(graph, normalize_features)\n",
    "            pyg_graphs.append(data)\n",
    "            pbar.update(1)\n",
    "    print('Process completed successfully :)')\n",
    "    return pyg_graphs"
   ]
  },
  {
   "cell_type": "code",
   "execution_count": 15,
   "id": "500e7b45-b917-44dd-9244-dee0589fbf6b",
   "metadata": {},
   "outputs": [
    {
     "name": "stdout",
     "output_type": "stream",
     "text": [
      "Initializing the process...\n"
     ]
    },
    {
     "name": "stderr",
     "output_type": "stream",
     "text": [
      "Progress: 100%|██████████| 1658/1658 [00:00<00:00, 5407.30it/s]\n"
     ]
    },
    {
     "name": "stdout",
     "output_type": "stream",
     "text": [
      "Process completed successfully :)\n",
      "Initializing the process...\n"
     ]
    },
    {
     "name": "stderr",
     "output_type": "stream",
     "text": [
      "Progress: 100%|██████████| 1939/1939 [00:00<00:00, 5464.99it/s]"
     ]
    },
    {
     "name": "stdout",
     "output_type": "stream",
     "text": [
      "Process completed successfully :)\n"
     ]
    },
    {
     "name": "stderr",
     "output_type": "stream",
     "text": [
      "\n"
     ]
    }
   ],
   "source": [
    "signal_pyg_graphs = convert_all_to_pyg_graphs(signal, normalize_features = False)\n",
    "background_pyg_graphs = convert_all_to_pyg_graphs(background, normalize_features = False)"
   ]
  },
  {
   "cell_type": "code",
   "execution_count": 16,
   "id": "6c6fe52a-fd62-4d3b-a4d3-8abed01bddfe",
   "metadata": {},
   "outputs": [
    {
     "name": "stdout",
     "output_type": "stream",
     "text": [
      "Dataset contains 3597 samples\n"
     ]
    }
   ],
   "source": [
    "dataset = []\n",
    "for data in signal_pyg_graphs + background_pyg_graphs:\n",
    "    if (data.number_of_nodes >= 3):\n",
    "    # & (data.num_isophotons == 1) & (data.num_btag_jets == 2):\n",
    "        dataset.append(data)\n",
    "\n",
    "random.seed(seed)\n",
    "dataset = random.sample(dataset, len(dataset))\n",
    "print(f'Dataset contains {len(dataset)} samples')"
   ]
  },
  {
   "cell_type": "code",
   "execution_count": 18,
   "id": "bab7e6cc-b9d9-42b8-b437-6f00c3e66976",
   "metadata": {},
   "outputs": [
    {
     "name": "stdout",
     "output_type": "stream",
     "text": [
      "Example Graph Data Object:\n",
      "Data(x=[4, 3], edge_index=[2, 12], edge_attr=[12, 1], y=0, eventno=342194, number_of_nodes=4.0, inv_mass_2j1p=112.50335693359375, inv_mass_2j=91.65177154541016, num_isophotons=1.0, num_btag_jets=2.0, node_label=[4, 1], jet_btag_label=[4, 1], isophoton_pT=20.037900924682617, h_scalars=[4, 3], x_coords=[4, 4])\n"
     ]
    }
   ],
   "source": [
    "idx = 54\n",
    "print(\"Example Graph Data Object:\")\n",
    "sample_graph = dataset[idx]\n",
    "print(sample_graph)"
   ]
  },
  {
   "cell_type": "code",
   "execution_count": 19,
   "id": "5ed44c67-fea0-48f4-b423-8d48d76970cd",
   "metadata": {},
   "outputs": [
    {
     "data": {
      "text/plain": [
       "tensor([[nan],\n",
       "        [1.],\n",
       "        [1.],\n",
       "        [0.]])"
      ]
     },
     "execution_count": 19,
     "metadata": {},
     "output_type": "execute_result"
    }
   ],
   "source": [
    "sample_graph.jet_btag_label"
   ]
  },
  {
   "cell_type": "code",
   "execution_count": null,
   "id": "c5172dbe-c56e-45fa-9ebd-3afb73ba0130",
   "metadata": {},
   "outputs": [],
   "source": []
  }
 ],
 "metadata": {
  "kernelspec": {
   "display_name": "Python 3",
   "language": "python",
   "name": "python3"
  },
  "language_info": {
   "codemirror_mode": {
    "name": "ipython",
    "version": 3
   },
   "file_extension": ".py",
   "mimetype": "text/x-python",
   "name": "python",
   "nbconvert_exporter": "python",
   "pygments_lexer": "ipython3",
   "version": "3.10.10"
  }
 },
 "nbformat": 4,
 "nbformat_minor": 5
}
